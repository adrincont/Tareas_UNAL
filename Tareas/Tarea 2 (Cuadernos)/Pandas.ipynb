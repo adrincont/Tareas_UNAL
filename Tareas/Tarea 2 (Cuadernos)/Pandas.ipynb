{
  "cells": [
    {
      "cell_type": "markdown",
      "source": [
        "# Librería Pandas\n",
        "---\n"
      ],
      "metadata": {
        "id": "OAOwC2XQ1XW4"
      },
      "id": "OAOwC2XQ1XW4"
    },
    {
      "cell_type": "code",
      "source": [
        "import pandas as pd # Importar modulos de la libreria pandas"
      ],
      "metadata": {
        "id": "iwdAnFtg2nHR"
      },
      "id": "iwdAnFtg2nHR",
      "execution_count": 1,
      "outputs": []
    },
    {
      "cell_type": "markdown",
      "source": [
        "Las principales características de esta librería son:\n",
        "\n",
        "- Define nuevas estructuras de datos basadas en los arrays de la librería NumPy pero con nuevas funcionalidades.\n",
        "- Permite leer y escribir fácilmente ficheros en formato CSV, Excel y bases de datos SQL.\n",
        "- Permite acceder a los datos mediante índices o nombres para filas y columnas.\n",
        "- Ofrece métodos para reordenar, dividir y combinar conjuntos de datos.\n",
        "- Permite trabajar con series temporales.\n",
        "- Realiza todas estas operaciones de manera muy eficiente."
      ],
      "metadata": {
        "id": "aYLPssSg1gBD"
      },
      "id": "aYLPssSg1gBD"
    },
    {
      "cell_type": "markdown",
      "source": [
        "## Tipos de datos de Pandas\n",
        "Pandas dispone de tres estructuras de datos diferentes:\n",
        "\n",
        "**Series:** Estructura de una dimensión.\n",
        "\n",
        "**DataFrame:** Estructura de dos dimensiones (tablas).\n",
        "\n",
        "**Panel:** Estructura de tres dimensiones (cubos).\n",
        "\n",
        "Todas estas estructuras se construyen a partir de arrays de la librería NumPy, añadiendo nuevas funcionalidades."
      ],
      "metadata": {
        "id": "iWJ-6kE11o2-"
      },
      "id": "iWJ-6kE11o2-"
    },
    {
      "cell_type": "markdown",
      "source": [
        "### **La clase de objetos Series**\n",
        "Son estructuras similares a los arrays de una dimensión. Son homogéneas, es decir, sus elementos tienen que ser del mismo tipo, y su tamaño es inmutable, es decir, no se puede cambiar, aunque si su contenido. Dispone de un índice que asocia un nombre a cada elemento del la serie, a través de la cuál se accede al elemento."
      ],
      "metadata": {
        "id": "plcw9yRE15st"
      },
      "id": "plcw9yRE15st"
    },
    {
      "cell_type": "markdown",
      "source": [
        "- **Creación de una serie a partir de una lista** : `Series(data=lista, index=indices, dtype=tipo)` devuelve un objeto de tipo Series con los datos de la lista lista, las filas especificados en la lista indices y el tipo de datos indicado en tipo. Si no se pasa la lista de índices se utilizan como índices los enteros del $0$ al $n-1$, donde $n$ es el tamaño de la serie. Si no se pasa el tipo de dato se infiere."
      ],
      "metadata": {
        "id": "6Cpk7MBR2GH9"
      },
      "id": "6Cpk7MBR2GH9"
    },
    {
      "cell_type": "code",
      "source": [
        "s = pd.Series(['Matemáticas', 'Historia', 'Economía', 'Programación', 'Inglés'], dtype='string')\n",
        "print(s)"
      ],
      "metadata": {
        "id": "zcaHs5M42fDM",
        "outputId": "e1354253-146d-47a9-d031-97ad99538dfd",
        "colab": {
          "base_uri": "https://localhost:8080/"
        }
      },
      "id": "zcaHs5M42fDM",
      "execution_count": 2,
      "outputs": [
        {
          "output_type": "stream",
          "name": "stdout",
          "text": [
            "0     Matemáticas\n",
            "1        Historia\n",
            "2        Economía\n",
            "3    Programación\n",
            "4          Inglés\n",
            "dtype: string\n"
          ]
        }
      ]
    },
    {
      "cell_type": "markdown",
      "source": [
        "- **Creación de una serie a partir de un diccionario**:\n",
        "`Series(data=diccionario, index=indices)` devuelve un objeto de tipo Series con los valores del diccionario diccionario y las filas especificados en la lista indices. Si no se pasa la lista de índices se utilizan como índices las claves del diccionario."
      ],
      "metadata": {
        "id": "DJ6rIlXn2xPS"
      },
      "id": "DJ6rIlXn2xPS"
    },
    {
      "cell_type": "code",
      "source": [
        "s = pd.Series({'Matemáticas': 6.0,  'Economía': 4.5, 'Programación': 8.5})\n",
        "print(s)"
      ],
      "metadata": {
        "id": "Suzc5EbH29l7",
        "outputId": "e5fee4b4-c673-4932-cb0e-e39149b6fe1e",
        "colab": {
          "base_uri": "https://localhost:8080/"
        }
      },
      "id": "Suzc5EbH29l7",
      "execution_count": 3,
      "outputs": [
        {
          "output_type": "stream",
          "name": "stdout",
          "text": [
            "Matemáticas     6.0\n",
            "Economía        4.5\n",
            "Programación    8.5\n",
            "dtype: float64\n"
          ]
        }
      ]
    },
    {
      "cell_type": "markdown",
      "source": [
        "#### **Atributos de una serie**\n",
        "Existen varias propiedades o métodos para ver las características de una serie.\n",
        "\n",
        "- `s.size` : Devuelve el número de elementos de la serie `s`.\n",
        "- `s.index` : Devuelve una lista con los nombres de las filas del DataFrame `s`.\n",
        "- `s.dtype` : Devuelve el tipo de datos de los elementos de la serie `s`."
      ],
      "metadata": {
        "id": "fmJoJ9Oi3Fsl"
      },
      "id": "fmJoJ9Oi3Fsl"
    },
    {
      "cell_type": "code",
      "source": [
        "s = pd.Series([1, 2, 2, 3, 3, 3, 4, 4, 4, 4])\n",
        "s.size\n"
      ],
      "metadata": {
        "id": "wmsgPZMk3Zjv",
        "outputId": "413470ef-94af-429b-a792-69f4995b087c",
        "colab": {
          "base_uri": "https://localhost:8080/"
        }
      },
      "id": "wmsgPZMk3Zjv",
      "execution_count": 4,
      "outputs": [
        {
          "output_type": "execute_result",
          "data": {
            "text/plain": [
              "10"
            ]
          },
          "metadata": {},
          "execution_count": 4
        }
      ]
    },
    {
      "cell_type": "code",
      "source": [
        "s.index"
      ],
      "metadata": {
        "id": "XSa8L0dA3jVL",
        "outputId": "f7a938ad-297c-4a6a-b4a2-d2c0d3390dee",
        "colab": {
          "base_uri": "https://localhost:8080/"
        }
      },
      "id": "XSa8L0dA3jVL",
      "execution_count": 5,
      "outputs": [
        {
          "output_type": "execute_result",
          "data": {
            "text/plain": [
              "RangeIndex(start=0, stop=10, step=1)"
            ]
          },
          "metadata": {},
          "execution_count": 5
        }
      ]
    },
    {
      "cell_type": "code",
      "source": [
        "s.dtype"
      ],
      "metadata": {
        "id": "UELup3z93mbB",
        "outputId": "2e99188e-d257-4ec9-b38a-3f04963b73ff",
        "colab": {
          "base_uri": "https://localhost:8080/"
        }
      },
      "id": "UELup3z93mbB",
      "execution_count": 6,
      "outputs": [
        {
          "output_type": "execute_result",
          "data": {
            "text/plain": [
              "dtype('int64')"
            ]
          },
          "metadata": {},
          "execution_count": 6
        }
      ]
    },
    {
      "cell_type": "markdown",
      "source": [
        "#### **Acceso a los elementos de una serie**\n",
        "El acceso a los elementos de un objeto del tipo Series puede ser a través de posiciones o través de índices (nombres)."
      ],
      "metadata": {
        "id": "-g3X7_9q3rqf"
      },
      "id": "-g3X7_9q3rqf"
    },
    {
      "cell_type": "markdown",
      "source": [
        "- `s[i]` : Devuelve el elemento que ocupa la posición i+1 en la serie s.\n",
        "- `s[nombres]`: Devuelve otra serie con los elementos con los nombres de la lista nombres en el índice."
      ],
      "metadata": {
        "id": "lZs9oJIJ3xOP"
      },
      "id": "lZs9oJIJ3xOP"
    },
    {
      "cell_type": "code",
      "source": [
        "s = pd.Series({'Matemáticas': 6.0,  'Economía': 4.5, 'Programación': 8.5})\n",
        "s[1:3]"
      ],
      "metadata": {
        "id": "j71U8Pw44HpB",
        "outputId": "087ed423-cef1-481a-e3f9-012731d374e2",
        "colab": {
          "base_uri": "https://localhost:8080/"
        }
      },
      "id": "j71U8Pw44HpB",
      "execution_count": 7,
      "outputs": [
        {
          "output_type": "execute_result",
          "data": {
            "text/plain": [
              "Economía        4.5\n",
              "Programación    8.5\n",
              "dtype: float64"
            ]
          },
          "metadata": {},
          "execution_count": 7
        }
      ]
    },
    {
      "cell_type": "code",
      "source": [
        "s['Economía']"
      ],
      "metadata": {
        "id": "elA5JcIj4a2e",
        "outputId": "ab53f04d-f2ca-47bc-e1c6-5009ec4d0537",
        "colab": {
          "base_uri": "https://localhost:8080/"
        }
      },
      "id": "elA5JcIj4a2e",
      "execution_count": 8,
      "outputs": [
        {
          "output_type": "execute_result",
          "data": {
            "text/plain": [
              "4.5"
            ]
          },
          "metadata": {},
          "execution_count": 8
        }
      ]
    },
    {
      "cell_type": "code",
      "source": [
        "s[['Programación', 'Matemáticas']]"
      ],
      "metadata": {
        "id": "z4phFw0u4ci4",
        "outputId": "67d09352-74a3-4983-8cce-27a907b67c13",
        "colab": {
          "base_uri": "https://localhost:8080/"
        }
      },
      "id": "z4phFw0u4ci4",
      "execution_count": 9,
      "outputs": [
        {
          "output_type": "execute_result",
          "data": {
            "text/plain": [
              "Programación    8.5\n",
              "Matemáticas     6.0\n",
              "dtype: float64"
            ]
          },
          "metadata": {},
          "execution_count": 9
        }
      ]
    },
    {
      "cell_type": "markdown",
      "source": [
        "#### **Resumen descriptivo de una serie**\n",
        "Las siguientes funciones permiten resumir varios aspectos de una serie:\n",
        "\n",
        "- `s.count() `: Devuelve el número de elementos que no son nulos ni `NaN` en la serie s.\n",
        "- `s.sum() `: Devuelve la suma de los datos de la serie s cuando los datos son de un tipo numérico, o la concatenación de ellos cuando son del tipo cadena str.\n",
        "- `s.cumsum()` : Devuelve una serie con la suma acumulada de los datos de la serie s cuando los datos son de un tipo numérico.\n",
        "- `s.value_counts()` : Devuelve una serie con la frecuencia (número de repeticiones) de cada valor de la serie s.\n",
        "- `s.min()` : Devuelve el menor de los datos de la serie s.\n",
        "- `s.max() `: Devuelve el mayor de los datos de la serie s.\n",
        "- `s.mean() `: Devuelve la media de los datos de la serie s cuando los datos son de un tipo numérico.\n",
        "- `s.std()` : Devuelve la desviación típica de los datos de la serie s cuando los datos son de un tipo numérico.\n",
        "- `s.describe()`: Devuelve una serie con un resumen descriptivo que incluye el número de datos, su suma, el mínimo, el máximo, la media, la desviación típica y los cuartiles."
      ],
      "metadata": {
        "id": "NBpcar604eYy"
      },
      "id": "NBpcar604eYy"
    },
    {
      "cell_type": "code",
      "source": [
        "s = pd.Series([1, 1, 1, 1, 2, 2, 2, 3, 3, 4])\n",
        "s.count(),s.sum(),s.min(),s.max(),s.mean(),s.std()"
      ],
      "metadata": {
        "id": "jHI08Fpo5CJK",
        "outputId": "5585b600-b0a3-4dfd-ce9a-616a4ebef6e1",
        "colab": {
          "base_uri": "https://localhost:8080/"
        }
      },
      "id": "jHI08Fpo5CJK",
      "execution_count": 10,
      "outputs": [
        {
          "output_type": "execute_result",
          "data": {
            "text/plain": [
              "(10, 20, 1, 4, 2.0, 1.0540925533894598)"
            ]
          },
          "metadata": {},
          "execution_count": 10
        }
      ]
    },
    {
      "cell_type": "code",
      "source": [
        "s.cumsum()"
      ],
      "metadata": {
        "id": "MVMgx2wN5Uyu",
        "outputId": "1e43c1a8-304b-490c-a8b7-72bc04ecd6f0",
        "colab": {
          "base_uri": "https://localhost:8080/"
        }
      },
      "id": "MVMgx2wN5Uyu",
      "execution_count": 11,
      "outputs": [
        {
          "output_type": "execute_result",
          "data": {
            "text/plain": [
              "0     1\n",
              "1     2\n",
              "2     3\n",
              "3     4\n",
              "4     6\n",
              "5     8\n",
              "6    10\n",
              "7    13\n",
              "8    16\n",
              "9    20\n",
              "dtype: int64"
            ]
          },
          "metadata": {},
          "execution_count": 11
        }
      ]
    },
    {
      "cell_type": "code",
      "source": [
        "s.value_counts()"
      ],
      "metadata": {
        "id": "gsenicGh5VUK",
        "outputId": "f4cd6e4a-6af8-4ec3-9230-a53baf3160d1",
        "colab": {
          "base_uri": "https://localhost:8080/"
        }
      },
      "id": "gsenicGh5VUK",
      "execution_count": 12,
      "outputs": [
        {
          "output_type": "execute_result",
          "data": {
            "text/plain": [
              "1    4\n",
              "2    3\n",
              "3    2\n",
              "4    1\n",
              "dtype: int64"
            ]
          },
          "metadata": {},
          "execution_count": 12
        }
      ]
    },
    {
      "cell_type": "code",
      "source": [
        "s.describe()"
      ],
      "metadata": {
        "id": "lf15i-pp5VXS",
        "outputId": "c5072e10-b100-400e-fa93-e96f34e41144",
        "colab": {
          "base_uri": "https://localhost:8080/"
        }
      },
      "id": "lf15i-pp5VXS",
      "execution_count": 13,
      "outputs": [
        {
          "output_type": "execute_result",
          "data": {
            "text/plain": [
              "count    10.000000\n",
              "mean      2.000000\n",
              "std       1.054093\n",
              "min       1.000000\n",
              "25%       1.000000\n",
              "50%       2.000000\n",
              "75%       2.750000\n",
              "max       4.000000\n",
              "dtype: float64"
            ]
          },
          "metadata": {},
          "execution_count": 13
        }
      ]
    },
    {
      "cell_type": "markdown",
      "source": [
        "#### **Aplicar operaciones a una serie**\n",
        "Los operadores binarios `(+, *, /, etc.)` pueden utilizarse con una serie, y devuelven otra serie con el resultado de aplicar la operación a cada elemento de la serie."
      ],
      "metadata": {
        "id": "9WRR167k5dO-"
      },
      "id": "9WRR167k5dO-"
    },
    {
      "cell_type": "code",
      "source": [
        "s = pd.Series([1, 2, 3, 4])\n",
        "s*2,s%2"
      ],
      "metadata": {
        "id": "rxIF4GNT5i0h",
        "outputId": "e0fff8b1-1380-4bc3-e441-1860bc996721",
        "colab": {
          "base_uri": "https://localhost:8080/"
        }
      },
      "id": "rxIF4GNT5i0h",
      "execution_count": 14,
      "outputs": [
        {
          "output_type": "execute_result",
          "data": {
            "text/plain": [
              "(0    2\n",
              " 1    4\n",
              " 2    6\n",
              " 3    8\n",
              " dtype: int64, 0    1\n",
              " 1    0\n",
              " 2    1\n",
              " 3    0\n",
              " dtype: int64)"
            ]
          },
          "metadata": {},
          "execution_count": 14
        }
      ]
    },
    {
      "cell_type": "code",
      "source": [
        "s = pd.Series(['a', 'b', 'c'])\n",
        "s*5"
      ],
      "metadata": {
        "id": "0vyuFo2m5tuY",
        "outputId": "a141fe02-381d-49a2-e36a-843fef3d0858",
        "colab": {
          "base_uri": "https://localhost:8080/"
        }
      },
      "id": "0vyuFo2m5tuY",
      "execution_count": 15,
      "outputs": [
        {
          "output_type": "execute_result",
          "data": {
            "text/plain": [
              "0    aaaaa\n",
              "1    bbbbb\n",
              "2    ccccc\n",
              "dtype: object"
            ]
          },
          "metadata": {},
          "execution_count": 15
        }
      ]
    },
    {
      "cell_type": "markdown",
      "source": [
        "#### **Aplicar funciones a una serie**\n",
        "También es posible aplicar una función a cada elemento de la serie mediante el siguiente método: `s.apply(f)` devuelve una serie con el resultado de aplicar la función f a cada uno de los elementos de la serie s."
      ],
      "metadata": {
        "id": "g4umKtHS5zFO"
      },
      "id": "g4umKtHS5zFO"
    },
    {
      "cell_type": "code",
      "source": [
        "from math import log\n",
        "s = pd.Series([1, 2, 3, 4])\n",
        "s.apply(log)"
      ],
      "metadata": {
        "id": "TVwmxoEZ55an",
        "outputId": "9a01940c-dbde-4d0d-b604-3977c4cea9b1",
        "colab": {
          "base_uri": "https://localhost:8080/"
        }
      },
      "id": "TVwmxoEZ55an",
      "execution_count": 16,
      "outputs": [
        {
          "output_type": "execute_result",
          "data": {
            "text/plain": [
              "0    0.000000\n",
              "1    0.693147\n",
              "2    1.098612\n",
              "3    1.386294\n",
              "dtype: float64"
            ]
          },
          "metadata": {},
          "execution_count": 16
        }
      ]
    },
    {
      "cell_type": "markdown",
      "source": [
        "#### **Filtrado de una serie**\n",
        "Para filtrar una serie y quedarse con los valores que cumplen una determinada condición se utiliza el siguiente método; `s[condicion]` : Devuelve una serie con los elementos de la serie `s` que se corresponden con el valor `True` de la lista booleana `condicion.condicion` debe ser una lista de valores booleanos de la misma longitud que la serie."
      ],
      "metadata": {
        "id": "0l3xjzO7y6qu"
      },
      "id": "0l3xjzO7y6qu"
    },
    {
      "cell_type": "code",
      "source": [
        "s = pd.Series({'Matemáticas': 6.0,  'Economía': 4.5, 'Programación': 8.5})\n",
        "print(s[s > 5])"
      ],
      "metadata": {
        "colab": {
          "base_uri": "https://localhost:8080/"
        },
        "id": "JnwX_lvbzUTX",
        "outputId": "23537be1-d467-42f3-96a5-5c84907def79"
      },
      "id": "JnwX_lvbzUTX",
      "execution_count": 17,
      "outputs": [
        {
          "output_type": "stream",
          "name": "stdout",
          "text": [
            "Matemáticas     6.0\n",
            "Programación    8.5\n",
            "dtype: float64\n"
          ]
        }
      ]
    },
    {
      "cell_type": "markdown",
      "source": [
        "#### **Ordenar una serie**\n",
        "Para ordenar una serie se utilizan los siguientes métodos:\n",
        "\n",
        "- `s.sort_values(ascending=booleano) `: Devuelve la serie que resulta de ordenar los valores la serie s. Si argumento del parámetro `ascending` es `True` el orden es creciente y si es `False` decreciente.\n",
        "\n",
        "- `df.sort_index(ascending=booleano)` : Devuelve la serie que resulta de ordenar el índice de la serie s. Si el argumento del parámetro `ascending` es `True` el orden es creciente y si es `False` decreciente."
      ],
      "metadata": {
        "id": "979rSUTdzz6T"
      },
      "id": "979rSUTdzz6T"
    },
    {
      "cell_type": "code",
      "source": [
        "s = pd.Series({'Matemáticas': 6.0,  'Economía': 4.5, 'Programación': 8.5})\n",
        "print(s.sort_values())"
      ],
      "metadata": {
        "colab": {
          "base_uri": "https://localhost:8080/"
        },
        "id": "xti71lX40Lyp",
        "outputId": "725d502d-d798-485c-89e8-738fff221668"
      },
      "id": "xti71lX40Lyp",
      "execution_count": 18,
      "outputs": [
        {
          "output_type": "stream",
          "name": "stdout",
          "text": [
            "Economía        4.5\n",
            "Matemáticas     6.0\n",
            "Programación    8.5\n",
            "dtype: float64\n"
          ]
        }
      ]
    },
    {
      "cell_type": "code",
      "source": [
        "print(s.sort_index(ascending = False))"
      ],
      "metadata": {
        "colab": {
          "base_uri": "https://localhost:8080/"
        },
        "id": "aBUxCa9L0VGb",
        "outputId": "4c837ff2-233c-438d-8879-e75d41b55fb0"
      },
      "id": "aBUxCa9L0VGb",
      "execution_count": 19,
      "outputs": [
        {
          "output_type": "stream",
          "name": "stdout",
          "text": [
            "Programación    8.5\n",
            "Matemáticas     6.0\n",
            "Economía        4.5\n",
            "dtype: float64\n"
          ]
        }
      ]
    },
    {
      "cell_type": "markdown",
      "source": [
        "#### **Eliminar los dados desconocidos en una serie**\n",
        "Los datos desconocidos representan en Pandas por `NaN` y los nulos por `None`. Tanto unos como otros suelen ser un problema a la hora de realizar algunos análisis de datos, por lo que es habitual eliminarlos. Para eliminarlos de una serie se utiliza el siguiente método: `s.dropna()` : Elimina los datos desconocidos o nulos de la serie s."
      ],
      "metadata": {
        "id": "lM4YTnPH1O_K"
      },
      "id": "lM4YTnPH1O_K"
    },
    {
      "cell_type": "code",
      "source": [
        "import numpy as np\n",
        "s = pd.Series(['a', 'b', None, 'c', np.NaN,  'd'])\n",
        "s"
      ],
      "metadata": {
        "id": "0rL4BMmg1vOG",
        "outputId": "24b78f96-d03c-4618-d395-ce08924c6708",
        "colab": {
          "base_uri": "https://localhost:8080/"
        }
      },
      "id": "0rL4BMmg1vOG",
      "execution_count": 20,
      "outputs": [
        {
          "output_type": "execute_result",
          "data": {
            "text/plain": [
              "0       a\n",
              "1       b\n",
              "2    None\n",
              "3       c\n",
              "4     NaN\n",
              "5       d\n",
              "dtype: object"
            ]
          },
          "metadata": {},
          "execution_count": 20
        }
      ]
    },
    {
      "cell_type": "code",
      "source": [
        "s.dropna()"
      ],
      "metadata": {
        "id": "qjg-4-2S2Ey9",
        "outputId": "e8b42272-af25-4697-c660-9bcebfa01871",
        "colab": {
          "base_uri": "https://localhost:8080/"
        }
      },
      "id": "qjg-4-2S2Ey9",
      "execution_count": 21,
      "outputs": [
        {
          "output_type": "execute_result",
          "data": {
            "text/plain": [
              "0    a\n",
              "1    b\n",
              "3    c\n",
              "5    d\n",
              "dtype: object"
            ]
          },
          "metadata": {},
          "execution_count": 21
        }
      ]
    },
    {
      "cell_type": "markdown",
      "source": [
        "#### **La clase de objetos DataFrame**\n",
        "Un objeto del tipo DataFrame define un conjunto de datos estructurado en forma de tabla donde cada columna es un objeto de tipo Series, es decir, todos los datos de una misma columna son del mismo tipo, y las filas son registros que pueden contender datos de distintos tipos.\n",
        "\n",
        "Un DataFrame contiene dos índices, uno para las filas y otro para las columnas, y se puede acceder a sus elementos mediante los nombres de las filas y las columnas.\n"
      ],
      "metadata": {
        "id": "Rcr_UKTL2J8Z"
      },
      "id": "Rcr_UKTL2J8Z"
    },
    {
      "cell_type": "markdown",
      "source": [
        "#### **Creación de un DataFrame a partir de un diccionario de listas**\n",
        "Para crear un DataFrame a partir de un diccionario cuyas claves son los nombres de las columnas y los valores son listas con los datos de las columnas se utiliza el método:\n",
        "\n",
        "- `DataFrame(data=diccionario, index=filas, columns=columnas, dtype=tipos)` : Devuelve un objeto del tipo DataFrame cuyas columnas son las listas contenidas en los valores del diccionario `diccionario`, los nombres de filas indicados en la lista `filas`, los nombres de columnas indicados en la lista `columnas` y los tipos indicados en la lista `tipos`. La lista `filas` tiene que tener el mismo tamaño que las listas del diccionario, mientras que las listas `columnas` y `tipos` tienen que tener el mismo tamaño que el diccionario. Si no se pasa la lista de filas se utilizan como nombres los enteros empezando en 0. Si no se pasa la lista de columnas se utilizan como nombres las claves del diccionario. Si no se pasa la lista de tipos, se infiere.\n",
        "\n",
        "Los valores asociados a las claves del diccionario deben ser listas del mismo tamaño."
      ],
      "metadata": {
        "id": "t4puZURc2aL1"
      },
      "id": "t4puZURc2aL1"
    },
    {
      "cell_type": "code",
      "source": [
        "datos = {'nombre':['María', 'Luis', 'Carmen', 'Antonio'],\n",
        "... 'edad':[18, 22, 20, 21],\n",
        "... 'grado':['Economía', 'Medicina', 'Arquitectura', 'Economía'],\n",
        "... 'correo':['maria@gmail.com', 'luis@yahoo.es', 'carmen@gmail.com', \n",
        "              'antonio@gmail.com']\n",
        "... }\n",
        "df = pd.DataFrame(datos)\n",
        "print(df)"
      ],
      "metadata": {
        "id": "l25UDBBq3IzB",
        "outputId": "8abb0344-efb8-4bf1-cb8f-408373fb4f2b",
        "colab": {
          "base_uri": "https://localhost:8080/"
        }
      },
      "id": "l25UDBBq3IzB",
      "execution_count": 26,
      "outputs": [
        {
          "output_type": "stream",
          "name": "stdout",
          "text": [
            "    nombre  edad         grado             correo\n",
            "0    María    18      Economía    maria@gmail.com\n",
            "1     Luis    22      Medicina      luis@yahoo.es\n",
            "2   Carmen    20  Arquitectura   carmen@gmail.com\n",
            "3  Antonio    21      Economía  antonio@gmail.com\n"
          ]
        }
      ]
    },
    {
      "cell_type": "markdown",
      "source": [
        "#### **Creación de un DataFrame a partir de una lista de listas**\n",
        "Para crear un DataFrame a partir de una lista de listas con los datos de las columnas se utiliza el siguiente método:\n",
        "\n",
        "- `DataFrame(data=listas, index=filas, columns=columnas, dtype=tipos)` : Devuelve un objeto del tipo DataFrame cuyas columnas son los valores de las listas de la lista `listas`, los nombres de filas indicados en la lista `filas`, los nombres de columnas indicados en la lista `columnas` y los tipos indicados en la lista `tipos`. La lista filas, tiene que tener el mismo tamaño que la lista listas mientras que las listas `columnas` y `tipos` tienen que tener el mismo tamaño que las listas anidadas en `listas`. Si no se pasa la lista de filas o de columnas se utilizan enteros empezando en 0. Si no se pasa la lista de tipos, se infiere.\n",
        "\n",
        "Si las listas anidadas en `listas` no tienen el mismo tamaño, las listas menores se rellenan con valores `NaN`."
      ],
      "metadata": {
        "id": "cETItt-s3rxD"
      },
      "id": "cETItt-s3rxD"
    },
    {
      "cell_type": "code",
      "source": [
        "df = pd.DataFrame([['María', 18], ['Luis', 22], ['Carmen', 20]], \n",
        "                  columns=['Nombre', 'Edad'])\n",
        "print(df)"
      ],
      "metadata": {
        "id": "S020jmYu4O-P",
        "outputId": "864fa89b-eb77-471c-e57a-cb234c0d1cf4",
        "colab": {
          "base_uri": "https://localhost:8080/"
        }
      },
      "id": "S020jmYu4O-P",
      "execution_count": 27,
      "outputs": [
        {
          "output_type": "stream",
          "name": "stdout",
          "text": [
            "   Nombre  Edad\n",
            "0   María    18\n",
            "1    Luis    22\n",
            "2  Carmen    20\n"
          ]
        }
      ]
    },
    {
      "cell_type": "markdown",
      "source": [
        "#### **Creación de un DataFrame a partir de una lista de diccionarios**\n",
        "Para crear un DataFrame a partir de una lista de diccionarios con los datos de las filas, se utiliza el siguiente método:\n",
        "\n",
        "- `DataFrame(data=diccionarios, index=filas, columns=columnas, dtype=tipos)` : Devuelve un objeto del tipo DataFrame cuyas filas contienen los valores de los diccionarios de la lista `diccionarios`, los nombres de filas indicados en la lista `filas`, los nombres de columnas indicados en la lista `columnas` y los tipos indicados en la lista `tipos`. La lista `filas` tiene que tener el mismo tamaño que la lista `lista`. Si no se pasa la lista de filas se utilizan enteros empezando en 0. Si no se pasa la lista de columnas se utilizan las claves de los diccionarios. Si no se pasa la lista de tipos, se infiere.\n",
        "\n",
        "Si los diccionarios no tienen las mismas claves, las claves que no aparecen en el diccionario se rellenan con valores `NaN`."
      ],
      "metadata": {
        "id": "9Hfmp1dj4f9s"
      },
      "id": "9Hfmp1dj4f9s"
    },
    {
      "cell_type": "code",
      "source": [
        "df = pd.DataFrame([{'Nombre':'María', 'Edad':18}, {'Nombre':'Luis', 'Edad':22},\n",
        "                   {'Nombre':'Carmen'}])\n",
        "print(df)"
      ],
      "metadata": {
        "id": "g5Z2sTHX5GU3",
        "outputId": "60d4a124-0290-43c8-e25f-e8eb0d7b6025",
        "colab": {
          "base_uri": "https://localhost:8080/"
        }
      },
      "id": "g5Z2sTHX5GU3",
      "execution_count": 29,
      "outputs": [
        {
          "output_type": "stream",
          "name": "stdout",
          "text": [
            "   Nombre  Edad\n",
            "0   María  18.0\n",
            "1    Luis  22.0\n",
            "2  Carmen   NaN\n"
          ]
        }
      ]
    },
    {
      "cell_type": "markdown",
      "source": [
        "#### **Creación de un DataFrame a partir de un array**\n",
        "Para crear un DataFrame a partir de un array de NumPy se utiliza el siguiente método:\n",
        "\n",
        "- `DataFrame(data=array, index=filas, columns=columnas, dtype=tipo)` : Devuelde un objeto del tipo DataFrame cuyas filas y columnas son las del array `array`, los nombres de filas indicados en la lista `filas`, los nombres de columnas indicados en la lista `columnas` y el tipo indicado en `tipo`. La lista `filas` tiene que tener el mismo tamaño que el número de filas del array y la lista `columnas` el mismo tamaño que el número de columnas del array. Si no se pasa la lista de filas se utilizan enteros empezando en 0. Si no se pasa la lista de columnas se utilizan las claves de los diccionarios. Si no se pasa la lista de tipos, se infiere."
      ],
      "metadata": {
        "id": "sDR71xgV5xDn"
      },
      "id": "sDR71xgV5xDn"
    },
    {
      "cell_type": "code",
      "source": [
        "df = pd.DataFrame(np.random.randn(4, 3), columns=['a', 'b', 'c'])\n",
        "print(df)"
      ],
      "metadata": {
        "id": "BGrLj3QR6MKJ",
        "outputId": "686b91cc-eadf-4939-df4f-9b54c3609437",
        "colab": {
          "base_uri": "https://localhost:8080/"
        }
      },
      "id": "BGrLj3QR6MKJ",
      "execution_count": 30,
      "outputs": [
        {
          "output_type": "stream",
          "name": "stdout",
          "text": [
            "          a         b         c\n",
            "0 -0.549141  0.343652 -1.081715\n",
            "1 -0.214098 -0.307081 -0.834150\n",
            "2  0.243490 -1.679315 -0.515577\n",
            "3 -0.820371 -0.142451  0.551035\n"
          ]
        }
      ]
    },
    {
      "cell_type": "markdown",
      "source": [
        "#### **Creación de un DataFrame a partir de un fichero CSV o Excel**\n",
        "Dependiendo del tipo de fichero, existen distintas funciones para importar un DataFrame desde un fichero.\n",
        "\n",
        "- `read_csv(fichero.csv, sep=separador, header=n, index_col=m, na_values=no-validos, decimal=separador-decimal)` : Devuelve un objeto del tipo DataFrame con los datos del fichero CSV `fichero.csv` usando como separador de los datos la cadena `separador`. Como nombres de columnas se utiliza los valores de la fila `n` y como nombres de filas los valores de la columna `m`. Si no se indica `m` se utilizan como nombres de filas los enteros empezando en 0. Los valores incluídos en la lista `no-validos` se convierten en `NaN`. Para los datos numéricos se utiliza como separador de decimales el carácter indicado en `separador-decimal`.\n",
        "\n",
        "- `read_excel(fichero.xlsx, sheet_name=hoja, header=n, index_col=m, na_values=no-validos, decimal=separador-decimal)` : Devuelve un objeto del tipo DataFrame con los datos de la hoja de cálculo `hoja` del fichero Excel `fichero.xlsx`. Como nombres de columnas se utiliza los valores de la fila `n` y como nombres de filas los valores de la columna `m`. Si no se indica `m` se utilizan como nombres de filas los enteros empezando en 0. Los valores incluídos en la lista `no-validos` se convierten en `NaN`. Para los datos numéricos se utiliza como separador de decimales el carácter indicado en `separador-decimal`."
      ],
      "metadata": {
        "id": "b6rsWcPb6RLt"
      },
      "id": "b6rsWcPb6RLt"
    },
    {
      "cell_type": "code",
      "source": [
        "# Importación del fichero datos-colesteroles.csv\n",
        "df = pd.read_csv(\n",
        "'https://raw.githubusercontent.com/asalber/manual-python/master/datos/colesteroles.csv', sep=';', decimal=',')\n",
        "print(df.head())"
      ],
      "metadata": {
        "id": "XcqQby8I7c4L",
        "outputId": "2cbae879-2876-479f-b429-ae34941761ab",
        "colab": {
          "base_uri": "https://localhost:8080/"
        }
      },
      "id": "XcqQby8I7c4L",
      "execution_count": 31,
      "outputs": [
        {
          "output_type": "stream",
          "name": "stdout",
          "text": [
            "                         nombre  edad sexo  peso  altura  colesterol\n",
            "0  José Luis Martínez Izquierdo    18    H  85.0    1.79       182.0\n",
            "1                Rosa Díaz Díaz    32    M  65.0    1.73       232.0\n",
            "2         Javier García Sánchez    24    H   NaN    1.81       191.0\n",
            "3           Carmen López Pinzón    35    M  65.0    1.70       200.0\n",
            "4          Marisa López Collado    46    M  51.0    1.58       148.0\n"
          ]
        }
      ]
    },
    {
      "cell_type": "markdown",
      "source": [
        "#### **Exportación de ficheros**\n",
        "También existen funciones para exportar un DataFrame a un fichero con diferentes formatos.\n",
        "\n",
        "- `df.to_csv(fichero.csv, sep=separador, columns=booleano, index=booleano)` : Exporta el DataFrame `df` al fichero `fichero.csv` en formato CSV usando como separador de los datos la cadena `separador`. Si se pasa `True` al parámetro `columns` se exporta también la fila con los nombres de columnas y si se pasa `True` al parámetro `index` se exporta también la columna con los nombres de las filas.\n",
        "\n",
        "- `df.to_excel(fichero.xlsx, sheet_name = hoja, columns=booleano, index=booleano)` : Exporta el DataFrame `df` a la hoja de cálculo `hoja` del fichero `fichero.xlsx` en formato Excel. Si se pasa `True` al parámetro `columns` se exporta también la fila con los nombres de columnas y si se pasa `True` al parámetro `index` se exporta también la columna con los nombres de las filas."
      ],
      "metadata": {
        "id": "PtXWtkpv7rCZ"
      },
      "id": "PtXWtkpv7rCZ"
    },
    {
      "cell_type": "markdown",
      "source": [
        "#### **Atributos de un DataFrame**\n",
        "Existen varias propiedades o métodos para ver las características de un DataFrame.\n",
        "\n",
        "- `df.info()` : Devuelve información (número de filas, número de columnas, índices, tipo de las columnas y memoria usado) sobre el DataFrame `df`.\n",
        "\n",
        "- `df.shape` : Devuelve una tupla con el número de filas y columnas del DataFrame `df`.\n",
        "\n",
        "- `df.size` : Devuelve el número de elementos del DataFrame.\n",
        "\n",
        "- `df.columns` : Devuelve una lista con los nombres de las columnas del DataFrame `df`.\n",
        "\n",
        "- `df.index` : Devuelve una lista con los nombres de las filas del DataFrame `df`.\n",
        "\n",
        "- `df.dtypes` : Devuelve una serie con los tipos de datos de las columnas del DataFrame `df`.\n",
        "\n",
        "- `df.head(n)` : Devuelve las n primeras filas del DataFrame `df`.\n",
        "\n",
        "- `df.tail(n)` : Devuelve las n últimas filas del DataFrame `df`."
      ],
      "metadata": {
        "id": "KPNRhWpO8f3_"
      },
      "id": "KPNRhWpO8f3_"
    },
    {
      "cell_type": "code",
      "source": [
        "df = pd.read_csv(\n",
        "'https://raw.githubusercontent.com/asalber/manual-python/master/datos/colesterol.csv')\n",
        "df.info()"
      ],
      "metadata": {
        "id": "6wGLl-p59Y_C",
        "outputId": "349332ea-7540-4b45-e57d-df31c69d6e55",
        "colab": {
          "base_uri": "https://localhost:8080/"
        }
      },
      "id": "6wGLl-p59Y_C",
      "execution_count": 32,
      "outputs": [
        {
          "output_type": "stream",
          "name": "stdout",
          "text": [
            "<class 'pandas.core.frame.DataFrame'>\n",
            "RangeIndex: 14 entries, 0 to 13\n",
            "Data columns (total 6 columns):\n",
            " #   Column      Non-Null Count  Dtype  \n",
            "---  ------      --------------  -----  \n",
            " 0   nombre      14 non-null     object \n",
            " 1   edad        14 non-null     int64  \n",
            " 2   sexo        14 non-null     object \n",
            " 3   peso        13 non-null     float64\n",
            " 4   altura      14 non-null     float64\n",
            " 5   colesterol  13 non-null     float64\n",
            "dtypes: float64(3), int64(1), object(2)\n",
            "memory usage: 800.0+ bytes\n"
          ]
        }
      ]
    },
    {
      "cell_type": "code",
      "source": [
        "df.shape, df.size"
      ],
      "metadata": {
        "id": "UXLaJG129if4",
        "outputId": "8b27878b-7292-4e57-9315-6782eb42e170",
        "colab": {
          "base_uri": "https://localhost:8080/"
        }
      },
      "id": "UXLaJG129if4",
      "execution_count": 34,
      "outputs": [
        {
          "output_type": "execute_result",
          "data": {
            "text/plain": [
              "((14, 6), 84)"
            ]
          },
          "metadata": {},
          "execution_count": 34
        }
      ]
    },
    {
      "cell_type": "code",
      "source": [
        "df.columns, df.index"
      ],
      "metadata": {
        "id": "l8oIhDBD97h7",
        "outputId": "b33324df-cdbc-4f74-958e-132cdfbdc0d3",
        "colab": {
          "base_uri": "https://localhost:8080/"
        }
      },
      "id": "l8oIhDBD97h7",
      "execution_count": 39,
      "outputs": [
        {
          "output_type": "execute_result",
          "data": {
            "text/plain": [
              "(Index(['nombre', 'edad', 'sexo', 'peso', 'altura', 'colesterol'], dtype='object'),\n",
              " RangeIndex(start=0, stop=14, step=1))"
            ]
          },
          "metadata": {},
          "execution_count": 39
        }
      ]
    },
    {
      "cell_type": "code",
      "source": [
        "df.dtypes"
      ],
      "metadata": {
        "id": "dgl-Al5L-dIb",
        "outputId": "dd93cf62-0062-463b-ff6d-13cd70a64292",
        "colab": {
          "base_uri": "https://localhost:8080/"
        }
      },
      "id": "dgl-Al5L-dIb",
      "execution_count": 40,
      "outputs": [
        {
          "output_type": "execute_result",
          "data": {
            "text/plain": [
              "nombre         object\n",
              "edad            int64\n",
              "sexo           object\n",
              "peso          float64\n",
              "altura        float64\n",
              "colesterol    float64\n",
              "dtype: object"
            ]
          },
          "metadata": {},
          "execution_count": 40
        }
      ]
    },
    {
      "cell_type": "markdown",
      "source": [
        "#### **Renombrar los nombres de las filas y columnas**\n",
        "Para cambiar el nombre de las filas y las columnas de un DataFrame se utiliza el siguiente método: `df.rename(columns=columnas, index=filas)`: Devuelve el DataFrame que resulta de renombrar las columnas indicadas en las claves del diccionario `columnas` con sus valores y las filas indicadas en las claves del diccionario `filas` con sus valores en el DataFrame `df`."
      ],
      "metadata": {
        "id": "ahg-PhxO-jCQ"
      },
      "id": "ahg-PhxO-jCQ"
    },
    {
      "cell_type": "code",
      "source": [
        "df = pd.read_csv(\n",
        "'https://raw.githubusercontent.com/asalber/manual-python/master/datos/colesterol.csv')"
      ],
      "metadata": {
        "id": "UkNXn2jT_QZy"
      },
      "id": "UkNXn2jT_QZy",
      "execution_count": 41,
      "outputs": []
    },
    {
      "cell_type": "code",
      "source": [
        "print(df.loc[2, 'colesterol'])"
      ],
      "metadata": {
        "id": "qhW6wOFW_eIJ",
        "outputId": "c6a4e568-310d-4448-b58e-50877c1171a2",
        "colab": {
          "base_uri": "https://localhost:8080/"
        }
      },
      "id": "qhW6wOFW_eIJ",
      "execution_count": 43,
      "outputs": [
        {
          "output_type": "stream",
          "name": "stdout",
          "text": [
            "191.0\n"
          ]
        }
      ]
    },
    {
      "cell_type": "code",
      "source": [
        "print(df.rename(columns={'nombre':'nombre y apellidos', 'altura':'estatura'}, \n",
        "                index={0:1000, 1:1001, 2:1002}))"
      ],
      "metadata": {
        "id": "RdCSuG5B_uMN",
        "outputId": "6ed4af32-5bfe-46e2-cd17-0b9ae28b8c49",
        "colab": {
          "base_uri": "https://localhost:8080/"
        }
      },
      "id": "RdCSuG5B_uMN",
      "execution_count": 44,
      "outputs": [
        {
          "output_type": "stream",
          "name": "stdout",
          "text": [
            "                   nombre y apellidos  edad sexo   peso  estatura  colesterol\n",
            "1000     José Luis Martínez Izquierdo    18    H   85.0      1.79       182.0\n",
            "1001                   Rosa Díaz Díaz    32    M   65.0      1.73       232.0\n",
            "1002            Javier García Sánchez    24    H    NaN      1.81       191.0\n",
            "3                 Carmen López Pinzón    35    M   65.0      1.70       200.0\n",
            "4                Marisa López Collado    46    M   51.0      1.58       148.0\n",
            "5                   Antonio Ruiz Cruz    68    H   66.0      1.74       249.0\n",
            "6             Antonio Fernández Ocaña    51    H   62.0      1.72       276.0\n",
            "7               Pilar Martín González    22    M   60.0      1.66         NaN\n",
            "8                Pedro Gálvez Tenorio    35    H   90.0      1.94       241.0\n",
            "9             Santiago Reillo Manzano    46    H   75.0      1.85       280.0\n",
            "10              Macarena Álvarez Luna    53    M   55.0      1.62       262.0\n",
            "11         José María de la Guía Sanz    58    H   78.0      1.87       198.0\n",
            "12    Miguel Angel Cuadrado Gutiérrez    27    H  109.0      1.98       210.0\n",
            "13              Carolina Rubio Moreno    20    M   61.0      1.77       194.0\n"
          ]
        }
      ]
    },
    {
      "cell_type": "markdown",
      "source": [
        "#### **Reindexar un DataFrame**\n",
        "Para reordenar los índices de las filas y las columnas de un DataFrame, así como añadir o eliminar índices, se utiliza el siguiente método: `df.reindex(index=filas, columns=columnas, fill_value=relleno) `: Devuelve el DataFrame que resulta de tomar del DataFrame `df` las filas con nombres en la lista `filas` y las `columnas` con nombres en la lista columnas. Si alguno de los nombres indicados en `filas` o `columnas` no existía en el DataFrame `df`, se crean filan o columnas nuevas rellenas con el valor `relleno`."
      ],
      "metadata": {
        "id": "JMGghOfyACkp"
      },
      "id": "JMGghOfyACkp"
    },
    {
      "cell_type": "code",
      "source": [
        "df = pd.read_csv(\n",
        "'https://raw.githubusercontent.com/asalber/manual-python/master/datos/colesterol.csv')"
      ],
      "metadata": {
        "id": "vOshFrwtAwyr"
      },
      "id": "vOshFrwtAwyr",
      "execution_count": 45,
      "outputs": []
    },
    {
      "cell_type": "code",
      "source": [
        "print(df.reindex(index=[4, 3, 1], columns=['nombre', 'tensión', 'colesterol']))"
      ],
      "metadata": {
        "id": "-6QirB3GAywj",
        "outputId": "f974332f-d8c4-4972-866f-517923f07c7c",
        "colab": {
          "base_uri": "https://localhost:8080/"
        }
      },
      "id": "-6QirB3GAywj",
      "execution_count": 46,
      "outputs": [
        {
          "output_type": "stream",
          "name": "stdout",
          "text": [
            "                 nombre  tensión  colesterol\n",
            "4  Marisa López Collado      NaN       148.0\n",
            "3   Carmen López Pinzón      NaN       200.0\n",
            "1        Rosa Díaz Díaz      NaN       232.0\n"
          ]
        }
      ]
    },
    {
      "cell_type": "markdown",
      "source": [
        "#### **Acceso a los elementos de un DataFrame**\n",
        "El acceso a los datos de un DataFrame se puede hacer a través de posiciones o través de los nombres de las filas y columnas.\n",
        "\n",
        "#### **Accesos mediante posiciones**\n",
        "- `df.iloc[i, j] `: Devuelve el elemento que se encuentra en la fila `i` y la columna `j` del DataFrame `df`. Pueden indicarse secuencias de índices para obtener partes del DataFrame.\n",
        "\n",
        "- `df.iloc[filas, columnas]` : Devuelve un DataFrame con los elementos de las filas de la lista `filas` y de las columnas de la lista `columnas`.\n",
        "\n",
        "- `df.iloc[i]` : Devuelve una serie con los elementos de la fila `i` del DataFrame `df`."
      ],
      "metadata": {
        "id": "SGvncmFAA7J7"
      },
      "id": "SGvncmFAA7J7"
    },
    {
      "cell_type": "code",
      "source": [
        "df = pd.read_csv(\n",
        "'https://raw.githubusercontent.com/asalber/manual-python/master/datos/colesterol.csv')"
      ],
      "metadata": {
        "id": "Bo3EATu2Bqhb"
      },
      "id": "Bo3EATu2Bqhb",
      "execution_count": 47,
      "outputs": []
    },
    {
      "cell_type": "code",
      "source": [
        "print(df.iloc[1, 3])"
      ],
      "metadata": {
        "id": "vVpejV66Bu7f",
        "outputId": "13f9376a-fe00-41fb-e1a2-e6e6b44610e1",
        "colab": {
          "base_uri": "https://localhost:8080/"
        }
      },
      "id": "vVpejV66Bu7f",
      "execution_count": 48,
      "outputs": [
        {
          "output_type": "stream",
          "name": "stdout",
          "text": [
            "65.0\n"
          ]
        }
      ]
    },
    {
      "cell_type": "code",
      "source": [
        "print(df.iloc[1, :2])"
      ],
      "metadata": {
        "id": "-D-HjhW9B6dr",
        "outputId": "62400707-e784-4117-963c-fc89b0821e47",
        "colab": {
          "base_uri": "https://localhost:8080/"
        }
      },
      "id": "-D-HjhW9B6dr",
      "execution_count": 49,
      "outputs": [
        {
          "output_type": "stream",
          "name": "stdout",
          "text": [
            "nombre    Rosa Díaz Díaz\n",
            "edad                  32\n",
            "Name: 1, dtype: object\n"
          ]
        }
      ]
    },
    {
      "cell_type": "markdown",
      "source": [
        "#### **Acceso a los elementos mediante nombres**\n",
        "- `df.loc[fila, columna]` : Devuelve el elemento que se encuentra en la fila con nombre `fila` y la `columna` de con nombre columna del DataFrame `df`.\n",
        "\n",
        "`df.loc[filas, columnas] `: Devuelve un DataFrame con los elemento que se encuentra en las filas con los nombres de la lista `filas` y las columnas con los nombres de la lista `columnas` del DataFrame `df`.\n",
        "\n",
        "- `df[columna]` : Devuelve una serie con los elementos de la columna de nombre `columna` del DataFrame `df`.\n",
        "\n",
        "- `df.columna `: Devuelve una serie con los elementos de la columna de nombre `columna` del DataFrame `df`. Es similar al método anterior pero solo funciona cuando el nombre de la columna no tiene espacios en blanco."
      ],
      "metadata": {
        "id": "LGjbHCTEDR6T"
      },
      "id": "LGjbHCTEDR6T"
    },
    {
      "cell_type": "code",
      "source": [
        "df = pd.read_csv(\n",
        "'https://raw.githubusercontent.com/asalber/manual-python/master/datos/colesterol.csv')"
      ],
      "metadata": {
        "id": "BZwRHsuSErlq"
      },
      "id": "BZwRHsuSErlq",
      "execution_count": 50,
      "outputs": []
    },
    {
      "cell_type": "code",
      "source": [
        "print(df.loc[2, 'colesterol'])"
      ],
      "metadata": {
        "id": "c-VB1C07FA5u",
        "outputId": "0615c009-1509-400a-f377-54abf32d5520",
        "colab": {
          "base_uri": "https://localhost:8080/"
        }
      },
      "id": "c-VB1C07FA5u",
      "execution_count": 51,
      "outputs": [
        {
          "output_type": "stream",
          "name": "stdout",
          "text": [
            "191.0\n"
          ]
        }
      ]
    },
    {
      "cell_type": "code",
      "source": [
        "print(df.loc[:3, ('colesterol','peso')])"
      ],
      "metadata": {
        "id": "DnDiPxf2FEwC",
        "outputId": "e439126b-f759-479e-cb7f-fbff807b4445",
        "colab": {
          "base_uri": "https://localhost:8080/"
        }
      },
      "id": "DnDiPxf2FEwC",
      "execution_count": 52,
      "outputs": [
        {
          "output_type": "stream",
          "name": "stdout",
          "text": [
            "   colesterol  peso\n",
            "0       182.0  85.0\n",
            "1       232.0  65.0\n",
            "2       191.0   NaN\n",
            "3       200.0  65.0\n"
          ]
        }
      ]
    },
    {
      "cell_type": "code",
      "source": [
        "print(df['colesterol'])"
      ],
      "metadata": {
        "id": "PydX9qPQFKbM",
        "outputId": "5c905b55-6da7-4f93-c270-3840271bc627",
        "colab": {
          "base_uri": "https://localhost:8080/"
        }
      },
      "id": "PydX9qPQFKbM",
      "execution_count": 53,
      "outputs": [
        {
          "output_type": "stream",
          "name": "stdout",
          "text": [
            "0     182.0\n",
            "1     232.0\n",
            "2     191.0\n",
            "3     200.0\n",
            "4     148.0\n",
            "5     249.0\n",
            "6     276.0\n",
            "7       NaN\n",
            "8     241.0\n",
            "9     280.0\n",
            "10    262.0\n",
            "11    198.0\n",
            "12    210.0\n",
            "13    194.0\n",
            "Name: colesterol, dtype: float64\n"
          ]
        }
      ]
    },
    {
      "cell_type": "markdown",
      "source": [
        "#### **Operaciones con las columnas de un DataFrame**\n",
        "#### **Añadir columnas a un DataFrame**\n",
        "El procedimiento para añadir una nueva columna a un DataFrame es similar al de añadir un nuevo par aun diccionario, pero pasando los valores de la columna en una lista o serie.\n",
        "\n",
        "- `d[nombre] = lista`: Añade al DataFrame `df` una nueva columna con el nombre `nombre` y los valores de la lista `lista`. La lista debe tener el mismo tamaño que el número de filas de df.\n",
        "\n",
        "- `d[nombre] = serie`: Añade al DataFrame `df` una nueva columna con el nombre `nombre` y los valores de la serie `serie`. Si el tamaño de la serie es menor que el número de filas de `df` se rellena con valores `NaN` mientras que si es mayor se recorta."
      ],
      "metadata": {
        "id": "fyKKrl0yFRbt"
      },
      "id": "fyKKrl0yFRbt"
    },
    {
      "cell_type": "code",
      "source": [
        "df = pd.read_csv(\n",
        "'https://raw.githubusercontent.com/asalber/manual-python/master/datos/colesterol.csv')"
      ],
      "metadata": {
        "id": "NJgoKL1VF2hb"
      },
      "id": "NJgoKL1VF2hb",
      "execution_count": 54,
      "outputs": []
    },
    {
      "cell_type": "code",
      "source": [
        "df['diabetes'] = pd.Series([False, False, True, False, True])\n",
        "print(df)"
      ],
      "metadata": {
        "id": "oX8W7B9QF7NW",
        "outputId": "2dd799dd-c38b-45be-e9e5-a5446c7c7a0b",
        "colab": {
          "base_uri": "https://localhost:8080/"
        }
      },
      "id": "oX8W7B9QF7NW",
      "execution_count": 55,
      "outputs": [
        {
          "output_type": "stream",
          "name": "stdout",
          "text": [
            "                             nombre  edad sexo   peso  altura  colesterol  \\\n",
            "0      José Luis Martínez Izquierdo    18    H   85.0    1.79       182.0   \n",
            "1                    Rosa Díaz Díaz    32    M   65.0    1.73       232.0   \n",
            "2             Javier García Sánchez    24    H    NaN    1.81       191.0   \n",
            "3               Carmen López Pinzón    35    M   65.0    1.70       200.0   \n",
            "4              Marisa López Collado    46    M   51.0    1.58       148.0   \n",
            "5                 Antonio Ruiz Cruz    68    H   66.0    1.74       249.0   \n",
            "6           Antonio Fernández Ocaña    51    H   62.0    1.72       276.0   \n",
            "7             Pilar Martín González    22    M   60.0    1.66         NaN   \n",
            "8              Pedro Gálvez Tenorio    35    H   90.0    1.94       241.0   \n",
            "9           Santiago Reillo Manzano    46    H   75.0    1.85       280.0   \n",
            "10            Macarena Álvarez Luna    53    M   55.0    1.62       262.0   \n",
            "11       José María de la Guía Sanz    58    H   78.0    1.87       198.0   \n",
            "12  Miguel Angel Cuadrado Gutiérrez    27    H  109.0    1.98       210.0   \n",
            "13            Carolina Rubio Moreno    20    M   61.0    1.77       194.0   \n",
            "\n",
            "   diabetes  \n",
            "0     False  \n",
            "1     False  \n",
            "2      True  \n",
            "3     False  \n",
            "4      True  \n",
            "5       NaN  \n",
            "6       NaN  \n",
            "7       NaN  \n",
            "8       NaN  \n",
            "9       NaN  \n",
            "10      NaN  \n",
            "11      NaN  \n",
            "12      NaN  \n",
            "13      NaN  \n"
          ]
        }
      ]
    },
    {
      "cell_type": "markdown",
      "source": [
        "#### **Operaciones sobre columnas**\n",
        "Puesto que los datos de una misma columna de un DataFrame son del mismo tipo, es fácil aplicar la misma operación a todos los elementos de la columna."
      ],
      "metadata": {
        "id": "wfYc8DTxGQpb"
      },
      "id": "wfYc8DTxGQpb"
    },
    {
      "cell_type": "code",
      "source": [
        "df = pd.read_csv(\n",
        "'https://raw.githubusercontent.com/asalber/manual-python/master/datos/colesterol.csv')\n",
        "print(df['altura']*100)"
      ],
      "metadata": {
        "id": "zwlyi_mbGXch",
        "outputId": "6692af3d-15e2-4f6d-d135-71e75f3729cf",
        "colab": {
          "base_uri": "https://localhost:8080/"
        }
      },
      "id": "zwlyi_mbGXch",
      "execution_count": 56,
      "outputs": [
        {
          "output_type": "stream",
          "name": "stdout",
          "text": [
            "0     179.0\n",
            "1     173.0\n",
            "2     181.0\n",
            "3     170.0\n",
            "4     158.0\n",
            "5     174.0\n",
            "6     172.0\n",
            "7     166.0\n",
            "8     194.0\n",
            "9     185.0\n",
            "10    162.0\n",
            "11    187.0\n",
            "12    198.0\n",
            "13    177.0\n",
            "Name: altura, dtype: float64\n"
          ]
        }
      ]
    },
    {
      "cell_type": "code",
      "source": [
        "print(df['sexo']=='M')"
      ],
      "metadata": {
        "id": "u0ZNDPwEGd4G",
        "outputId": "5dc4120f-fe99-494b-8af9-225e2b69e9f0",
        "colab": {
          "base_uri": "https://localhost:8080/"
        }
      },
      "id": "u0ZNDPwEGd4G",
      "execution_count": 57,
      "outputs": [
        {
          "output_type": "stream",
          "name": "stdout",
          "text": [
            "0     False\n",
            "1      True\n",
            "2     False\n",
            "3      True\n",
            "4      True\n",
            "5     False\n",
            "6     False\n",
            "7      True\n",
            "8     False\n",
            "9     False\n",
            "10     True\n",
            "11    False\n",
            "12    False\n",
            "13     True\n",
            "Name: sexo, dtype: bool\n"
          ]
        }
      ]
    },
    {
      "cell_type": "markdown",
      "source": [
        "#### **Aplicar funciones a columnas**\n",
        "Para aplicar funciones a todos los elementos de una columna se utiliza el siguiente método: `df[columna].apply(f)` : Devuelve una serie con los valores que resulta de aplicar la función `f` a los elementos de la columna con nombre `columna` del DataFrame `df`."
      ],
      "metadata": {
        "id": "y9NEkyhlGqg5"
      },
      "id": "y9NEkyhlGqg5"
    },
    {
      "cell_type": "code",
      "source": [
        "from math import log\n",
        "df = pd.read_csv(\n",
        "'https://raw.githubusercontent.com/asalber/manual-python/master/datos/colesterol.csv')\n",
        "print(df['altura'].apply(log))"
      ],
      "metadata": {
        "id": "uUyrBFd0G4QA",
        "outputId": "143f41fa-0597-4743-e825-07305e1555bf",
        "colab": {
          "base_uri": "https://localhost:8080/"
        }
      },
      "id": "uUyrBFd0G4QA",
      "execution_count": 58,
      "outputs": [
        {
          "output_type": "stream",
          "name": "stdout",
          "text": [
            "0     0.582216\n",
            "1     0.548121\n",
            "2     0.593327\n",
            "3     0.530628\n",
            "4     0.457425\n",
            "5     0.553885\n",
            "6     0.542324\n",
            "7     0.506818\n",
            "8     0.662688\n",
            "9     0.615186\n",
            "10    0.482426\n",
            "11    0.625938\n",
            "12    0.683097\n",
            "13    0.570980\n",
            "Name: altura, dtype: float64\n"
          ]
        }
      ]
    },
    {
      "cell_type": "markdown",
      "source": [
        "#### **Convertir una columna al tipo datetime**\n",
        "A menudo una columna contiene cadenas que representan fechas. Para convertir estas cadenas al tipo datetime se utiliza el siguiente método: `to_datetime(columna, formato)`: Devuelve la serie que resulta de convertir las cadenas de la columna con el nombre `columna` en fechas del tipo `datetime` con el formado especificado en `formato`. "
      ],
      "metadata": {
        "id": "axb4vCxEHEn8"
      },
      "id": "axb4vCxEHEn8"
    },
    {
      "cell_type": "code",
      "source": [
        "df = pd.DataFrame({'Name': ['María', 'Carlos', 'Carmen'], 'Nacimiento':['05-03-2000', '20-05-2001', '10-12-1999']})\n",
        "print(pd.to_datetime(df.Nacimiento, format = '%d-%m-%Y'))"
      ],
      "metadata": {
        "id": "n--BDk_3HUqj",
        "outputId": "8b77fc1e-7429-4dc3-d05b-7722e4b88e6c",
        "colab": {
          "base_uri": "https://localhost:8080/"
        }
      },
      "id": "n--BDk_3HUqj",
      "execution_count": 59,
      "outputs": [
        {
          "output_type": "stream",
          "name": "stdout",
          "text": [
            "0   2000-03-05\n",
            "1   2001-05-20\n",
            "2   1999-12-10\n",
            "Name: Nacimiento, dtype: datetime64[ns]\n"
          ]
        }
      ]
    },
    {
      "cell_type": "markdown",
      "source": [
        "#### **Resumen descriptivo de un DataFrame**\n",
        "Al igual que para las series, los siguientes métodos permiten resumir la información de un DataFrame por columnas:\n",
        "\n",
        "- `df.count()` : Devuelve una serie número de elementos que no son nulos ni `NaN` en cada columna del DataFrame `df`.\n",
        "- `df.sum()` : Devuelve una serie con la suma de los datos de las columnas del DataFrame `df` cuando los datos son de un tipo numérico, o la concatenación de ellos cuando son del tipo cadena `str`.\n",
        "- `df.cumsum()` : Devuelve un DataFrame con la suma acumulada de los datos de las columnas del DataFrame `df` cuando los datos son de un tipo numérico.\n",
        "- `df.min()` : Devuelve una serie con los menores de los datos de las columnas del DataFrame `df`.\n",
        "- `df.max() `: Devuelve una serie con los mayores de los datos de las columnas del DataFrame `df`.\n",
        "- `df.mean()` : Devuelve una serie con las media de los datos de las columnas del DataFrame `df` cuando los datos son de un tipo numérico.\n",
        "- `df.std()` : Devuelve una serie con las desviaciones típicas de los datos de las columnas del DataFrame `df` cuando los datos son de un tipo numérico.\n",
        "- `df.describe(include = tipo)` : Devuelve un DataFrame con un resumen estadístico de las columnas del DataFrame `df` del tipo `tipo`. Para los datos numéricos (`number`) se calcula la media, la desviación típica, el mínimo, el máximo y los cuartiles de las columnas numéricas. Para los datos no numéricos (`object`) se calcula el número de valores, el número de valores distintos, la moda y su frecuencia. Si no se indica el tipo solo se consideran las columnas numéricas."
      ],
      "metadata": {
        "id": "9xp7Ru3kIAoB"
      },
      "id": "9xp7Ru3kIAoB"
    },
    {
      "cell_type": "code",
      "source": [
        "df = pd.read_csv(\n",
        "'https://raw.githubusercontent.com/asalber/manual-python/master/datos/colesterol.csv')\n",
        "print(df.describe())"
      ],
      "metadata": {
        "id": "qS4X6g3qJOyC",
        "outputId": "8f6b1f0e-67c1-4c15-870c-715a2dbe9630",
        "colab": {
          "base_uri": "https://localhost:8080/"
        }
      },
      "id": "qS4X6g3qJOyC",
      "execution_count": 60,
      "outputs": [
        {
          "output_type": "stream",
          "name": "stdout",
          "text": [
            "            edad        peso     altura  colesterol\n",
            "count  14.000000   13.000000  14.000000   13.000000\n",
            "mean   38.214286   70.923077   1.768571  220.230769\n",
            "std    15.621379   16.126901   0.115016   39.847948\n",
            "min    18.000000   51.000000   1.580000  148.000000\n",
            "25%    24.750000   61.000000   1.705000  194.000000\n",
            "50%    35.000000   65.000000   1.755000  210.000000\n",
            "75%    49.750000   78.000000   1.840000  249.000000\n",
            "max    68.000000  109.000000   1.980000  280.000000\n"
          ]
        }
      ]
    },
    {
      "cell_type": "code",
      "source": [
        "print(df.describe(include='object'))"
      ],
      "metadata": {
        "id": "1mUnuJ8LJTc3",
        "outputId": "b45f3149-cddb-4947-94e5-db9db6609112",
        "colab": {
          "base_uri": "https://localhost:8080/"
        }
      },
      "id": "1mUnuJ8LJTc3",
      "execution_count": 61,
      "outputs": [
        {
          "output_type": "stream",
          "name": "stdout",
          "text": [
            "                              nombre sexo\n",
            "count                             14   14\n",
            "unique                            14    2\n",
            "top     José Luis Martínez Izquierdo    H\n",
            "freq                               1    8\n"
          ]
        }
      ]
    },
    {
      "cell_type": "markdown",
      "source": [
        "#### **Eliminar columnas de un DataFrame**\n",
        "Para eliminar columnas de un DataFrame se utilizan los siguientes métodos:\n",
        "\n",
        "- `del d[nombre]` : Elimina la columna con nombre `nombre` del DataFrame `df`.\n",
        "\n",
        "- `df.pop(nombre) `: Elimina la columna con nombre `nombre` del DataFrame `df` y la devuelve como una serie."
      ],
      "metadata": {
        "id": "kN-NwZ-RJiBQ"
      },
      "id": "kN-NwZ-RJiBQ"
    },
    {
      "cell_type": "code",
      "source": [
        "df = pd.read_csv(\n",
        "'https://raw.githubusercontent.com/asalber/manual-python/master/datos/colesterol.csv')\n",
        "edad = df.pop('edad')\n",
        "print(df)"
      ],
      "metadata": {
        "id": "UjMyZHWTJ9Vd",
        "outputId": "e0920ea6-696e-492e-b060-143baa2ae565",
        "colab": {
          "base_uri": "https://localhost:8080/"
        }
      },
      "id": "UjMyZHWTJ9Vd",
      "execution_count": 62,
      "outputs": [
        {
          "output_type": "stream",
          "name": "stdout",
          "text": [
            "                             nombre sexo   peso  altura  colesterol\n",
            "0      José Luis Martínez Izquierdo    H   85.0    1.79       182.0\n",
            "1                    Rosa Díaz Díaz    M   65.0    1.73       232.0\n",
            "2             Javier García Sánchez    H    NaN    1.81       191.0\n",
            "3               Carmen López Pinzón    M   65.0    1.70       200.0\n",
            "4              Marisa López Collado    M   51.0    1.58       148.0\n",
            "5                 Antonio Ruiz Cruz    H   66.0    1.74       249.0\n",
            "6           Antonio Fernández Ocaña    H   62.0    1.72       276.0\n",
            "7             Pilar Martín González    M   60.0    1.66         NaN\n",
            "8              Pedro Gálvez Tenorio    H   90.0    1.94       241.0\n",
            "9           Santiago Reillo Manzano    H   75.0    1.85       280.0\n",
            "10            Macarena Álvarez Luna    M   55.0    1.62       262.0\n",
            "11       José María de la Guía Sanz    H   78.0    1.87       198.0\n",
            "12  Miguel Angel Cuadrado Gutiérrez    H  109.0    1.98       210.0\n",
            "13            Carolina Rubio Moreno    M   61.0    1.77       194.0\n"
          ]
        }
      ]
    },
    {
      "cell_type": "code",
      "source": [
        "print(edad)"
      ],
      "metadata": {
        "id": "sWPERFhGKGkQ",
        "outputId": "68145718-1099-43c2-a8e3-2f9a15f64f89",
        "colab": {
          "base_uri": "https://localhost:8080/"
        }
      },
      "id": "sWPERFhGKGkQ",
      "execution_count": 63,
      "outputs": [
        {
          "output_type": "stream",
          "name": "stdout",
          "text": [
            "0     18\n",
            "1     32\n",
            "2     24\n",
            "3     35\n",
            "4     46\n",
            "5     68\n",
            "6     51\n",
            "7     22\n",
            "8     35\n",
            "9     46\n",
            "10    53\n",
            "11    58\n",
            "12    27\n",
            "13    20\n",
            "Name: edad, dtype: int64\n"
          ]
        }
      ]
    },
    {
      "cell_type": "markdown",
      "source": [
        "#### **Operaciones con las filas de un DataFrame**\n",
        "#### **Añadir una fila a un DataFrame**\n",
        "Para añadir una fila a un DataFrame se utiliza el siguiente método:\n",
        "\n",
        "- `df.append(serie, ignore_index=True)` : Devuelve el DataFrame que resulta de añadir una fila al DataFrame `df` con los valores de la serie `serie`. Los nombres del índice de la serie deben corresponderse con los nombres de las columnas de `df`. Si no se pasa el parámetro `ignore_index` entonces debe pasarse el parámetro `name` a la serie, donde su argumento será el nombre de la nueva fila."
      ],
      "metadata": {
        "id": "7dhIwChHKSK-"
      },
      "id": "7dhIwChHKSK-"
    },
    {
      "cell_type": "code",
      "source": [
        "df = pd.read_csv(\n",
        "'https://raw.githubusercontent.com/asalber/manual-python/master/datos/colesterol.csv')\n",
        "df = df.append(pd.Series(['Carlos Rivas', 28, 'H', 89.0, 1.78, 245.0], index=['nombre','edad','sexo','peso','altura','colesterol']), ignore_index=True)\n",
        "print(df.tail())"
      ],
      "metadata": {
        "id": "dSkVGRcIKuSM",
        "outputId": "8136082f-2445-4226-c723-fb689c5e42b9",
        "colab": {
          "base_uri": "https://localhost:8080/"
        }
      },
      "id": "dSkVGRcIKuSM",
      "execution_count": 64,
      "outputs": [
        {
          "output_type": "stream",
          "name": "stdout",
          "text": [
            "                             nombre  edad sexo   peso  altura  colesterol\n",
            "10            Macarena Álvarez Luna    53    M   55.0    1.62       262.0\n",
            "11       José María de la Guía Sanz    58    H   78.0    1.87       198.0\n",
            "12  Miguel Angel Cuadrado Gutiérrez    27    H  109.0    1.98       210.0\n",
            "13            Carolina Rubio Moreno    20    M   61.0    1.77       194.0\n",
            "14                     Carlos Rivas    28    H   89.0    1.78       245.0\n"
          ]
        }
      ]
    },
    {
      "cell_type": "markdown",
      "source": [
        "#### **Eliminar filas de un DataFrame**\n",
        "Para eliminar filas de un DataFrame se utilizan el siguiente método: `df.drop(filas)` : Devuelve el DataFrame que resulta de eliminar las filas con los nombres indicados en la lista `filas `del DataFrame `df`."
      ],
      "metadata": {
        "id": "WAhqiTq8K2WH"
      },
      "id": "WAhqiTq8K2WH"
    },
    {
      "cell_type": "code",
      "source": [
        "df = pd.read_csv(\n",
        "'https://raw.githubusercontent.com/asalber/manual-python/master/datos/colesterol.csv')\n",
        "print(df.drop([1, 3]))"
      ],
      "metadata": {
        "id": "3JxYThtKLH1N",
        "outputId": "af38a000-6857-4b95-f15d-2e81152a84bf",
        "colab": {
          "base_uri": "https://localhost:8080/"
        }
      },
      "id": "3JxYThtKLH1N",
      "execution_count": 65,
      "outputs": [
        {
          "output_type": "stream",
          "name": "stdout",
          "text": [
            "                             nombre  edad sexo   peso  altura  colesterol\n",
            "0      José Luis Martínez Izquierdo    18    H   85.0    1.79       182.0\n",
            "2             Javier García Sánchez    24    H    NaN    1.81       191.0\n",
            "4              Marisa López Collado    46    M   51.0    1.58       148.0\n",
            "5                 Antonio Ruiz Cruz    68    H   66.0    1.74       249.0\n",
            "6           Antonio Fernández Ocaña    51    H   62.0    1.72       276.0\n",
            "7             Pilar Martín González    22    M   60.0    1.66         NaN\n",
            "8              Pedro Gálvez Tenorio    35    H   90.0    1.94       241.0\n",
            "9           Santiago Reillo Manzano    46    H   75.0    1.85       280.0\n",
            "10            Macarena Álvarez Luna    53    M   55.0    1.62       262.0\n",
            "11       José María de la Guía Sanz    58    H   78.0    1.87       198.0\n",
            "12  Miguel Angel Cuadrado Gutiérrez    27    H  109.0    1.98       210.0\n",
            "13            Carolina Rubio Moreno    20    M   61.0    1.77       194.0\n"
          ]
        }
      ]
    },
    {
      "cell_type": "markdown",
      "source": [
        "#### **Filtrado de las filas de un DataFrame**\n",
        "Una operación bastante común con un DataFrame es obtener las filas que cumplen una determinada condición. `df[condicion] `: Devuelve un DataFrame con las filas del DataFrame `df` que se corresponden con el valor `True` de la lista booleana `condicion.condicion` debe ser una lista de valores booleanos de la misma longitud que el número de filas del DataFrame."
      ],
      "metadata": {
        "id": "lkPP8q9HLPmy"
      },
      "id": "lkPP8q9HLPmy"
    },
    {
      "cell_type": "code",
      "source": [
        "df = pd.read_csv(\n",
        "'https://raw.githubusercontent.com/asalber/manual-python/master/datos/colesterol.csv')\n",
        "print(df[(df['sexo']=='H') & (df['colesterol'] > 260)])"
      ],
      "metadata": {
        "id": "w-ulbUYvLt0O",
        "outputId": "b8cf0290-2049-4934-f176-f8940d1e2ba2",
        "colab": {
          "base_uri": "https://localhost:8080/"
        }
      },
      "id": "w-ulbUYvLt0O",
      "execution_count": 66,
      "outputs": [
        {
          "output_type": "stream",
          "name": "stdout",
          "text": [
            "                    nombre  edad sexo  peso  altura  colesterol\n",
            "6  Antonio Fernández Ocaña    51    H  62.0    1.72       276.0\n",
            "9  Santiago Reillo Manzano    46    H  75.0    1.85       280.0\n"
          ]
        }
      ]
    },
    {
      "cell_type": "markdown",
      "source": [
        "#### **Ordenar un DataFrame**\n",
        "Para ordenar un DataFrame de acuerdo a los valores de una determinada columna se utilizan los siguientes métodos:\n",
        "\n",
        "- `df.sort_values(columna, ascending=booleano)` : Devuelve el DataFrame que resulta de ordenar las filas del DataFrame `df` según los valores del la columna con nombre `columna`. Si argumento del parámetro `ascending `es `True` el orden es creciente y si es `False` decreciente.\n",
        "\n",
        "- `df.sort_index(ascending=booleano)` : Devuelve el DataFrame que resulta de ordenar las filas del DataFrame `df` según los nombres de las filas. Si el argumento del parámetro `ascending` es `True` el orden es creciente y si es `False` decreciente."
      ],
      "metadata": {
        "id": "4lW5pngPL2NC"
      },
      "id": "4lW5pngPL2NC"
    },
    {
      "cell_type": "code",
      "source": [
        "df = pd.read_csv(\n",
        "'https://raw.githubusercontent.com/asalber/manual-python/master/datos/colesterol.csv')\n",
        "print(df.sort_values('colesterol'))"
      ],
      "metadata": {
        "id": "Hr_40dnmMWIw",
        "outputId": "358ea2d2-75e1-4ba4-8d19-7c93f212add2",
        "colab": {
          "base_uri": "https://localhost:8080/"
        }
      },
      "id": "Hr_40dnmMWIw",
      "execution_count": 67,
      "outputs": [
        {
          "output_type": "stream",
          "name": "stdout",
          "text": [
            "                             nombre  edad sexo   peso  altura  colesterol\n",
            "4              Marisa López Collado    46    M   51.0    1.58       148.0\n",
            "0      José Luis Martínez Izquierdo    18    H   85.0    1.79       182.0\n",
            "2             Javier García Sánchez    24    H    NaN    1.81       191.0\n",
            "13            Carolina Rubio Moreno    20    M   61.0    1.77       194.0\n",
            "11       José María de la Guía Sanz    58    H   78.0    1.87       198.0\n",
            "3               Carmen López Pinzón    35    M   65.0    1.70       200.0\n",
            "12  Miguel Angel Cuadrado Gutiérrez    27    H  109.0    1.98       210.0\n",
            "1                    Rosa Díaz Díaz    32    M   65.0    1.73       232.0\n",
            "8              Pedro Gálvez Tenorio    35    H   90.0    1.94       241.0\n",
            "5                 Antonio Ruiz Cruz    68    H   66.0    1.74       249.0\n",
            "10            Macarena Álvarez Luna    53    M   55.0    1.62       262.0\n",
            "6           Antonio Fernández Ocaña    51    H   62.0    1.72       276.0\n",
            "9           Santiago Reillo Manzano    46    H   75.0    1.85       280.0\n",
            "7             Pilar Martín González    22    M   60.0    1.66         NaN\n"
          ]
        }
      ]
    },
    {
      "cell_type": "markdown",
      "source": [
        "#### **Eliminar las filas con dados desconocidos en un DataFrame**\n",
        "Para eliminar las filas de un DataFrame que contienen datos desconocidos NaN o nulos None se utiliza el siguiente método:\n",
        "\n",
        "- `s.dropna(subset=columnas)` : Devuelve el DataFrame que resulta de eliminar las filas que contienen algún dato desconocido o nulo en las columnas de la lista `columna` del DataFrame `df`. Si no se pasa un argumento al parámetro `subset` se aplica a todas las columnas del DataFrame."
      ],
      "metadata": {
        "id": "J7NfN__KMifk"
      },
      "id": "J7NfN__KMifk"
    },
    {
      "cell_type": "code",
      "source": [
        "f = pd.read_csv(\n",
        "'https://raw.githubusercontent.com/asalber/manual-python/master/datos/colesterol.csv')\n",
        "print(df.dropna())"
      ],
      "metadata": {
        "id": "gRyHmmnEMxHm",
        "outputId": "6563e26b-45cc-43ad-83ab-128a40746212",
        "colab": {
          "base_uri": "https://localhost:8080/"
        }
      },
      "id": "gRyHmmnEMxHm",
      "execution_count": 68,
      "outputs": [
        {
          "output_type": "stream",
          "name": "stdout",
          "text": [
            "                             nombre  edad sexo   peso  altura  colesterol\n",
            "0      José Luis Martínez Izquierdo    18    H   85.0    1.79       182.0\n",
            "1                    Rosa Díaz Díaz    32    M   65.0    1.73       232.0\n",
            "3               Carmen López Pinzón    35    M   65.0    1.70       200.0\n",
            "4              Marisa López Collado    46    M   51.0    1.58       148.0\n",
            "5                 Antonio Ruiz Cruz    68    H   66.0    1.74       249.0\n",
            "6           Antonio Fernández Ocaña    51    H   62.0    1.72       276.0\n",
            "8              Pedro Gálvez Tenorio    35    H   90.0    1.94       241.0\n",
            "9           Santiago Reillo Manzano    46    H   75.0    1.85       280.0\n",
            "10            Macarena Álvarez Luna    53    M   55.0    1.62       262.0\n",
            "11       José María de la Guía Sanz    58    H   78.0    1.87       198.0\n",
            "12  Miguel Angel Cuadrado Gutiérrez    27    H  109.0    1.98       210.0\n",
            "13            Carolina Rubio Moreno    20    M   61.0    1.77       194.0\n"
          ]
        }
      ]
    },
    {
      "cell_type": "markdown",
      "source": [
        "#### **Agrupación de un DataFrame**\n",
        "En muchas aplicaciones es útil agrupar los datos de un DataFrame de acuerdo a los valores de una o varias columnas (categorías)."
      ],
      "metadata": {
        "id": "Zcuj7UgAM7Jl"
      },
      "id": "Zcuj7UgAM7Jl"
    },
    {
      "cell_type": "markdown",
      "source": [
        "#### **Dividir un DataFrame en grupos**\n",
        "Para dividir un DataFrame en grupos se utiliza el siguiente método: `df.groupby(columnas).groups `: Devuelve un diccionario con cuyas claves son las tuplas que resultan de todas las combinaciones de los valores de las columnas con nombres en la lista `columnas`, y valores las listas de los nombres de las filas que contienen esos valores en las correspondientes columnas del DataFrame `df`."
      ],
      "metadata": {
        "id": "Y1bhUhEFNEzC"
      },
      "id": "Y1bhUhEFNEzC"
    },
    {
      "cell_type": "code",
      "source": [
        "df = pd.read_csv(\n",
        "'https://raw.githubusercontent.com/asalber/manual-python/master/datos/colesterol.csv')\n",
        "print(df.groupby('sexo').groups)"
      ],
      "metadata": {
        "id": "KufI34eGNQnA",
        "outputId": "c36ab8ca-5406-4e84-da95-70b7fce88c1b",
        "colab": {
          "base_uri": "https://localhost:8080/"
        }
      },
      "id": "KufI34eGNQnA",
      "execution_count": 69,
      "outputs": [
        {
          "output_type": "stream",
          "name": "stdout",
          "text": [
            "{'H': [0, 2, 5, 6, 8, 9, 11, 12], 'M': [1, 3, 4, 7, 10, 13]}\n"
          ]
        }
      ]
    },
    {
      "cell_type": "code",
      "source": [
        "print(df.groupby(['sexo','edad']).groups)"
      ],
      "metadata": {
        "id": "jfREquHONW9G",
        "outputId": "a51e20e0-810c-41c4-affc-3b1c34e19341",
        "colab": {
          "base_uri": "https://localhost:8080/"
        }
      },
      "id": "jfREquHONW9G",
      "execution_count": 70,
      "outputs": [
        {
          "output_type": "stream",
          "name": "stdout",
          "text": [
            "{('H', 18): [0], ('H', 24): [2], ('H', 27): [12], ('H', 35): [8], ('H', 46): [9], ('H', 51): [6], ('H', 58): [11], ('H', 68): [5], ('M', 20): [13], ('M', 22): [7], ('M', 32): [1], ('M', 35): [3], ('M', 46): [4], ('M', 53): [10]}\n"
          ]
        }
      ]
    },
    {
      "cell_type": "markdown",
      "source": [
        "Para obtener un grupo concreto se utiliza el siguiente método: `df.groupby(columnas).get_group(valores)` : Devuelve un DataFrame con las filas del DataFrame `df` que cumplen que las columnas de la lista `columnas` presentan los valores de la tupla `valores`. La lista `columnas` y la tupla `valores` deben tener el mismo tamaño."
      ],
      "metadata": {
        "id": "DgEOPgn_NcM0"
      },
      "id": "DgEOPgn_NcM0"
    },
    {
      "cell_type": "code",
      "source": [
        "df = pd.read_csv(\n",
        "'https://raw.githubusercontent.com/asalber/manual-python/master/datos/colesterol.csv')\n",
        "print(df.groupby('sexo').get_group('M'))"
      ],
      "metadata": {
        "id": "-fxYa8LONtli",
        "outputId": "696accbb-7f20-4090-a720-e9e4346a7a58",
        "colab": {
          "base_uri": "https://localhost:8080/"
        }
      },
      "id": "-fxYa8LONtli",
      "execution_count": 71,
      "outputs": [
        {
          "output_type": "stream",
          "name": "stdout",
          "text": [
            "                   nombre  edad sexo  peso  altura  colesterol\n",
            "1          Rosa Díaz Díaz    32    M  65.0    1.73       232.0\n",
            "3     Carmen López Pinzón    35    M  65.0    1.70       200.0\n",
            "4    Marisa López Collado    46    M  51.0    1.58       148.0\n",
            "7   Pilar Martín González    22    M  60.0    1.66         NaN\n",
            "10  Macarena Álvarez Luna    53    M  55.0    1.62       262.0\n",
            "13  Carolina Rubio Moreno    20    M  61.0    1.77       194.0\n"
          ]
        }
      ]
    },
    {
      "cell_type": "markdown",
      "source": [
        "#### **Aplicar una función de agregación por grupos**\n",
        "Una vez dividido el DataFame en grupos, es posible aplicar funciones de agregación a cada grupo mediante el siguiente método:\n",
        "\n",
        "- `df.groupby(columnas).agg(funciones) `: Devuelve un DataFrame con el resultado de aplicar las funciones de agregación de la lista `funciones` a cada uno de los DataFrames que resultan de dividir el DataFrame según las columnas de la lista `columnas`.\n",
        "\n",
        "Una función de agregación toma como argumento una lista y devuelve una único valor. Algunas de las funciones de agregación más comunes son:\n",
        "\n",
        "- `np.min `: Devuelve el mínimo de una lista de valores.\n",
        "- `np.max` : Devuelve el máximo de una lista de valores.\n",
        "- `np.count_nonzero` : Devuelve el número de valores no nulos de una lista de valores.\n",
        "- `np.sum `: Devuelve la suma de una lista de valores.\n",
        "- `np.mean` : Devuelve la media de una lista de valores.\n",
        "- `np.std` : Devuelve la desviación típica de una lista de valores."
      ],
      "metadata": {
        "id": "pbtmFCnFNzn2"
      },
      "id": "pbtmFCnFNzn2"
    },
    {
      "cell_type": "code",
      "source": [
        "df = pd.read_csv(\n",
        "'https://raw.githubusercontent.com/asalber/manual-python/master/datos/colesterol.csv')\n",
        "print(df.groupby('sexo').agg(np.mean))"
      ],
      "metadata": {
        "id": "w57HJr-7OW7u",
        "outputId": "0d88ca9c-5ada-423a-9152-1c301e649b20",
        "colab": {
          "base_uri": "https://localhost:8080/"
        }
      },
      "id": "w57HJr-7OW7u",
      "execution_count": 72,
      "outputs": [
        {
          "output_type": "stream",
          "name": "stdout",
          "text": [
            "           edad       peso    altura  colesterol\n",
            "sexo                                            \n",
            "H     40.875000  80.714286  1.837500     228.375\n",
            "M     34.666667  59.500000  1.676667     207.200\n"
          ]
        }
      ]
    },
    {
      "cell_type": "markdown",
      "source": [
        "#### **Reestructurar un DataFrame**\n",
        "A menudo la disposición de los datos en un DataFrame no es la adecuada para su tratamiento y es necesario reestructurar el DataFrame. Los datos que contiene un DataFrame pueden organizarse en dos formatos: ancho y largo."
      ],
      "metadata": {
        "id": "ftp4MdilOcA2"
      },
      "id": "ftp4MdilOcA2"
    },
    {
      "cell_type": "markdown",
      "source": [
        "#### **Convertir un DataFrame a formato largo**\n",
        "Para convertir un DataFrame de formato ancho a formato largo (columnas a filas) se utiliza el siguiente método:\n",
        "\n",
        "- `df.melt(id_vars=id-columnas, value_vars=columnas, var_name=nombre-columnas, var_value=nombre-valores) `: Devuelve el DataFrame que resulta de convertir el DataFrame `df` de formato ancho a formato largo. Todas las columnas de lista `columnas` se reestructuran en dos nuevas columnas con nombres `nombre-columnas` y `nombre-valores` que contienen los nombres de las columnas originales y sus valores, respectivamente. Las columnas en la lista `id-columnas` se mantienen sin reestructurar. Si no se pasa la lista `columnas` entonces se reestructuran todas las columnas excepto las columnas de la lista `id-columnas`."
      ],
      "metadata": {
        "id": "kOMTYIOiOohp"
      },
      "id": "kOMTYIOiOohp"
    },
    {
      "cell_type": "code",
      "source": [
        "datos = {'nombre':['María', 'Luis', 'Carmen'],\n",
        "... 'edad':[18, 22, 20],\n",
        "... 'Matemáticas':[8.5, 7, 3.5],\n",
        "... 'Economía':[8, 6.5, 5],\n",
        "... 'Programación':[6.5, 4, 9]}\n",
        "df = pd.DataFrame(datos)\n",
        "df1 = df.melt(id_vars=['nombre', 'edad'], var_name='asignatura', value_name='nota')\n",
        "print(df1)"
      ],
      "metadata": {
        "id": "UyW75dE3PIG6",
        "outputId": "f3b2f05e-1557-43df-878d-2c2745c9e0cb",
        "colab": {
          "base_uri": "https://localhost:8080/"
        }
      },
      "id": "UyW75dE3PIG6",
      "execution_count": 73,
      "outputs": [
        {
          "output_type": "stream",
          "name": "stdout",
          "text": [
            "   nombre  edad    asignatura  nota\n",
            "0   María    18   Matemáticas   8.5\n",
            "1    Luis    22   Matemáticas   7.0\n",
            "2  Carmen    20   Matemáticas   3.5\n",
            "3   María    18      Economía   8.0\n",
            "4    Luis    22      Economía   6.5\n",
            "5  Carmen    20      Economía   5.0\n",
            "6   María    18  Programación   6.5\n",
            "7    Luis    22  Programación   4.0\n",
            "8  Carmen    20  Programación   9.0\n"
          ]
        }
      ]
    },
    {
      "cell_type": "markdown",
      "source": [
        "#### **Convertir un DataFrame a formato ancho**\n",
        "Para convertir un DataFrame de formato largo a formato ancho (filas a columnas) se utiliza el siguiente método:\n",
        "\n",
        "- `df.pivot(index=filas, columns=columna, values=valores)` : Devuelve el DataFrame que resulta de convertir el DataFrame `df` de formato largo a formato ancho. Se crean tantas columnas nuevas como valores distintos haya en la columna `columna`. Los nombres de estas nuevas columnas son los valores de la columna `columna` mientras que sus valores se toman de la columna `valores`. Los nombres del índice del nuevo DataFrame se toman de los valores de la columna `filas`."
      ],
      "metadata": {
        "id": "EQfvY2NHPRoE"
      },
      "id": "EQfvY2NHPRoE"
    },
    {
      "cell_type": "code",
      "source": [
        "print(df1.pivot(index='nombre', columns='asignatura', values='nota'))"
      ],
      "metadata": {
        "id": "T3NAUCm4PiiU",
        "outputId": "c8cfc638-3f6e-4ba7-c4bf-bbf12352d4a0",
        "colab": {
          "base_uri": "https://localhost:8080/"
        }
      },
      "id": "T3NAUCm4PiiU",
      "execution_count": 74,
      "outputs": [
        {
          "output_type": "stream",
          "name": "stdout",
          "text": [
            "asignatura  Economía  Matemáticas  Programación\n",
            "nombre                                         \n",
            "Carmen           5.0          3.5           9.0\n",
            "Luis             6.5          7.0           4.0\n",
            "María            8.0          8.5           6.5\n"
          ]
        }
      ]
    }
  ],
  "metadata": {
    "kernelspec": {
      "display_name": "Python 3 (ipykernel)",
      "language": "python",
      "name": "python3"
    },
    "language_info": {
      "codemirror_mode": {
        "name": "ipython",
        "version": 3
      },
      "file_extension": ".py",
      "mimetype": "text/x-python",
      "name": "python",
      "nbconvert_exporter": "python",
      "pygments_lexer": "ipython3",
      "version": "3.9.7"
    },
    "colab": {
      "name": "Pandas.ipynb",
      "provenance": []
    }
  },
  "nbformat": 4,
  "nbformat_minor": 5
}