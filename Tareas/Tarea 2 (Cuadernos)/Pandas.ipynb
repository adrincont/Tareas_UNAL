{
  "cells": [
    {
      "cell_type": "markdown",
      "source": [
        "# Librería Pandas\n",
        "---\n"
      ],
      "metadata": {
        "id": "OAOwC2XQ1XW4"
      },
      "id": "OAOwC2XQ1XW4"
    },
    {
      "cell_type": "code",
      "source": [
        "import pandas as pd # Importar modulos de la libreria pandas"
      ],
      "metadata": {
        "id": "iwdAnFtg2nHR"
      },
      "id": "iwdAnFtg2nHR",
      "execution_count": 1,
      "outputs": []
    },
    {
      "cell_type": "markdown",
      "source": [
        "Las principales características de esta librería son:\n",
        "\n",
        "- Define nuevas estructuras de datos basadas en los arrays de la librería NumPy pero con nuevas funcionalidades.\n",
        "- Permite leer y escribir fácilmente ficheros en formato CSV, Excel y bases de datos SQL.\n",
        "- Permite acceder a los datos mediante índices o nombres para filas y columnas.\n",
        "- Ofrece métodos para reordenar, dividir y combinar conjuntos de datos.\n",
        "- Permite trabajar con series temporales.\n",
        "- Realiza todas estas operaciones de manera muy eficiente."
      ],
      "metadata": {
        "id": "aYLPssSg1gBD"
      },
      "id": "aYLPssSg1gBD"
    },
    {
      "cell_type": "markdown",
      "source": [
        "## Tipos de datos de Pandas\n",
        "Pandas dispone de tres estructuras de datos diferentes:\n",
        "\n",
        "**Series:** Estructura de una dimensión.\n",
        "\n",
        "**DataFrame:** Estructura de dos dimensiones (tablas).\n",
        "\n",
        "**Panel:** Estructura de tres dimensiones (cubos).\n",
        "\n",
        "Todas estas estructuras se construyen a partir de arrays de la librería NumPy, añadiendo nuevas funcionalidades."
      ],
      "metadata": {
        "id": "iWJ-6kE11o2-"
      },
      "id": "iWJ-6kE11o2-"
    },
    {
      "cell_type": "markdown",
      "source": [
        "### **La clase de objetos Series**\n",
        "Son estructuras similares a los arrays de una dimensión. Son homogéneas, es decir, sus elementos tienen que ser del mismo tipo, y su tamaño es inmutable, es decir, no se puede cambiar, aunque si su contenido. Dispone de un índice que asocia un nombre a cada elemento del la serie, a través de la cuál se accede al elemento."
      ],
      "metadata": {
        "id": "plcw9yRE15st"
      },
      "id": "plcw9yRE15st"
    },
    {
      "cell_type": "markdown",
      "source": [
        "- **Creación de una serie a partir de una lista** : `Series(data=lista, index=indices, dtype=tipo)` devuelve un objeto de tipo Series con los datos de la lista lista, las filas especificados en la lista indices y el tipo de datos indicado en tipo. Si no se pasa la lista de índices se utilizan como índices los enteros del $0$ al $n-1$, donde $n$ es el tamaño de la serie. Si no se pasa el tipo de dato se infiere."
      ],
      "metadata": {
        "id": "6Cpk7MBR2GH9"
      },
      "id": "6Cpk7MBR2GH9"
    },
    {
      "cell_type": "code",
      "source": [
        "s = pd.Series(['Matemáticas', 'Historia', 'Economía', 'Programación', 'Inglés'], dtype='string')\n",
        "print(s)"
      ],
      "metadata": {
        "id": "zcaHs5M42fDM",
        "outputId": "e1354253-146d-47a9-d031-97ad99538dfd",
        "colab": {
          "base_uri": "https://localhost:8080/"
        }
      },
      "id": "zcaHs5M42fDM",
      "execution_count": 2,
      "outputs": [
        {
          "output_type": "stream",
          "name": "stdout",
          "text": [
            "0     Matemáticas\n",
            "1        Historia\n",
            "2        Economía\n",
            "3    Programación\n",
            "4          Inglés\n",
            "dtype: string\n"
          ]
        }
      ]
    },
    {
      "cell_type": "markdown",
      "source": [
        "- **Creación de una serie a partir de un diccionario**:\n",
        "`Series(data=diccionario, index=indices)` devuelve un objeto de tipo Series con los valores del diccionario diccionario y las filas especificados en la lista indices. Si no se pasa la lista de índices se utilizan como índices las claves del diccionario."
      ],
      "metadata": {
        "id": "DJ6rIlXn2xPS"
      },
      "id": "DJ6rIlXn2xPS"
    },
    {
      "cell_type": "code",
      "source": [
        "s = pd.Series({'Matemáticas': 6.0,  'Economía': 4.5, 'Programación': 8.5})\n",
        "print(s)"
      ],
      "metadata": {
        "id": "Suzc5EbH29l7",
        "outputId": "e5fee4b4-c673-4932-cb0e-e39149b6fe1e",
        "colab": {
          "base_uri": "https://localhost:8080/"
        }
      },
      "id": "Suzc5EbH29l7",
      "execution_count": 3,
      "outputs": [
        {
          "output_type": "stream",
          "name": "stdout",
          "text": [
            "Matemáticas     6.0\n",
            "Economía        4.5\n",
            "Programación    8.5\n",
            "dtype: float64\n"
          ]
        }
      ]
    },
    {
      "cell_type": "markdown",
      "source": [
        "#### **Atributos de una serie**\n",
        "Existen varias propiedades o métodos para ver las características de una serie.\n",
        "\n",
        "- `s.size` : Devuelve el número de elementos de la serie `s`.\n",
        "- `s.index` : Devuelve una lista con los nombres de las filas del DataFrame `s`.\n",
        "- `s.dtype` : Devuelve el tipo de datos de los elementos de la serie `s`."
      ],
      "metadata": {
        "id": "fmJoJ9Oi3Fsl"
      },
      "id": "fmJoJ9Oi3Fsl"
    },
    {
      "cell_type": "code",
      "source": [
        "s = pd.Series([1, 2, 2, 3, 3, 3, 4, 4, 4, 4])\n",
        "s.size\n"
      ],
      "metadata": {
        "id": "wmsgPZMk3Zjv",
        "outputId": "413470ef-94af-429b-a792-69f4995b087c",
        "colab": {
          "base_uri": "https://localhost:8080/"
        }
      },
      "id": "wmsgPZMk3Zjv",
      "execution_count": 4,
      "outputs": [
        {
          "output_type": "execute_result",
          "data": {
            "text/plain": [
              "10"
            ]
          },
          "metadata": {},
          "execution_count": 4
        }
      ]
    },
    {
      "cell_type": "code",
      "source": [
        "s.index"
      ],
      "metadata": {
        "id": "XSa8L0dA3jVL",
        "outputId": "f7a938ad-297c-4a6a-b4a2-d2c0d3390dee",
        "colab": {
          "base_uri": "https://localhost:8080/"
        }
      },
      "id": "XSa8L0dA3jVL",
      "execution_count": 5,
      "outputs": [
        {
          "output_type": "execute_result",
          "data": {
            "text/plain": [
              "RangeIndex(start=0, stop=10, step=1)"
            ]
          },
          "metadata": {},
          "execution_count": 5
        }
      ]
    },
    {
      "cell_type": "code",
      "source": [
        "s.dtype"
      ],
      "metadata": {
        "id": "UELup3z93mbB",
        "outputId": "2e99188e-d257-4ec9-b38a-3f04963b73ff",
        "colab": {
          "base_uri": "https://localhost:8080/"
        }
      },
      "id": "UELup3z93mbB",
      "execution_count": 6,
      "outputs": [
        {
          "output_type": "execute_result",
          "data": {
            "text/plain": [
              "dtype('int64')"
            ]
          },
          "metadata": {},
          "execution_count": 6
        }
      ]
    },
    {
      "cell_type": "markdown",
      "source": [
        "#### **Acceso a los elementos de una serie**\n",
        "El acceso a los elementos de un objeto del tipo Series puede ser a través de posiciones o través de índices (nombres)."
      ],
      "metadata": {
        "id": "-g3X7_9q3rqf"
      },
      "id": "-g3X7_9q3rqf"
    },
    {
      "cell_type": "markdown",
      "source": [
        "- `s[i]` : Devuelve el elemento que ocupa la posición i+1 en la serie s.\n",
        "- `s[nombres]`: Devuelve otra serie con los elementos con los nombres de la lista nombres en el índice."
      ],
      "metadata": {
        "id": "lZs9oJIJ3xOP"
      },
      "id": "lZs9oJIJ3xOP"
    },
    {
      "cell_type": "code",
      "source": [
        "s = pd.Series({'Matemáticas': 6.0,  'Economía': 4.5, 'Programación': 8.5})\n",
        "s[1:3]"
      ],
      "metadata": {
        "id": "j71U8Pw44HpB",
        "outputId": "087ed423-cef1-481a-e3f9-012731d374e2",
        "colab": {
          "base_uri": "https://localhost:8080/"
        }
      },
      "id": "j71U8Pw44HpB",
      "execution_count": 7,
      "outputs": [
        {
          "output_type": "execute_result",
          "data": {
            "text/plain": [
              "Economía        4.5\n",
              "Programación    8.5\n",
              "dtype: float64"
            ]
          },
          "metadata": {},
          "execution_count": 7
        }
      ]
    },
    {
      "cell_type": "code",
      "source": [
        "s['Economía']"
      ],
      "metadata": {
        "id": "elA5JcIj4a2e",
        "outputId": "ab53f04d-f2ca-47bc-e1c6-5009ec4d0537",
        "colab": {
          "base_uri": "https://localhost:8080/"
        }
      },
      "id": "elA5JcIj4a2e",
      "execution_count": 8,
      "outputs": [
        {
          "output_type": "execute_result",
          "data": {
            "text/plain": [
              "4.5"
            ]
          },
          "metadata": {},
          "execution_count": 8
        }
      ]
    },
    {
      "cell_type": "code",
      "source": [
        "s[['Programación', 'Matemáticas']]"
      ],
      "metadata": {
        "id": "z4phFw0u4ci4",
        "outputId": "67d09352-74a3-4983-8cce-27a907b67c13",
        "colab": {
          "base_uri": "https://localhost:8080/"
        }
      },
      "id": "z4phFw0u4ci4",
      "execution_count": 9,
      "outputs": [
        {
          "output_type": "execute_result",
          "data": {
            "text/plain": [
              "Programación    8.5\n",
              "Matemáticas     6.0\n",
              "dtype: float64"
            ]
          },
          "metadata": {},
          "execution_count": 9
        }
      ]
    },
    {
      "cell_type": "markdown",
      "source": [
        "#### **Resumen descriptivo de una serie**\n",
        "Las siguientes funciones permiten resumir varios aspectos de una serie:\n",
        "\n",
        "- `s.count() `: Devuelve el número de elementos que no son nulos ni `NaN` en la serie s.\n",
        "- `s.sum() `: Devuelve la suma de los datos de la serie s cuando los datos son de un tipo numérico, o la concatenación de ellos cuando son del tipo cadena str.\n",
        "- `s.cumsum()` : Devuelve una serie con la suma acumulada de los datos de la serie s cuando los datos son de un tipo numérico.\n",
        "- `s.value_counts()` : Devuelve una serie con la frecuencia (número de repeticiones) de cada valor de la serie s.\n",
        "- `s.min()` : Devuelve el menor de los datos de la serie s.\n",
        "- `s.max() `: Devuelve el mayor de los datos de la serie s.\n",
        "- `s.mean() `: Devuelve la media de los datos de la serie s cuando los datos son de un tipo numérico.\n",
        "- `s.std()` : Devuelve la desviación típica de los datos de la serie s cuando los datos son de un tipo numérico.\n",
        "- `s.describe()`: Devuelve una serie con un resumen descriptivo que incluye el número de datos, su suma, el mínimo, el máximo, la media, la desviación típica y los cuartiles."
      ],
      "metadata": {
        "id": "NBpcar604eYy"
      },
      "id": "NBpcar604eYy"
    },
    {
      "cell_type": "code",
      "source": [
        "s = pd.Series([1, 1, 1, 1, 2, 2, 2, 3, 3, 4])\n",
        "s.count(),s.sum(),s.min(),s.max(),s.mean(),s.std()"
      ],
      "metadata": {
        "id": "jHI08Fpo5CJK",
        "outputId": "5585b600-b0a3-4dfd-ce9a-616a4ebef6e1",
        "colab": {
          "base_uri": "https://localhost:8080/"
        }
      },
      "id": "jHI08Fpo5CJK",
      "execution_count": 10,
      "outputs": [
        {
          "output_type": "execute_result",
          "data": {
            "text/plain": [
              "(10, 20, 1, 4, 2.0, 1.0540925533894598)"
            ]
          },
          "metadata": {},
          "execution_count": 10
        }
      ]
    },
    {
      "cell_type": "code",
      "source": [
        "s.cumsum()"
      ],
      "metadata": {
        "id": "MVMgx2wN5Uyu",
        "outputId": "1e43c1a8-304b-490c-a8b7-72bc04ecd6f0",
        "colab": {
          "base_uri": "https://localhost:8080/"
        }
      },
      "id": "MVMgx2wN5Uyu",
      "execution_count": 11,
      "outputs": [
        {
          "output_type": "execute_result",
          "data": {
            "text/plain": [
              "0     1\n",
              "1     2\n",
              "2     3\n",
              "3     4\n",
              "4     6\n",
              "5     8\n",
              "6    10\n",
              "7    13\n",
              "8    16\n",
              "9    20\n",
              "dtype: int64"
            ]
          },
          "metadata": {},
          "execution_count": 11
        }
      ]
    },
    {
      "cell_type": "code",
      "source": [
        "s.value_counts()"
      ],
      "metadata": {
        "id": "gsenicGh5VUK",
        "outputId": "f4cd6e4a-6af8-4ec3-9230-a53baf3160d1",
        "colab": {
          "base_uri": "https://localhost:8080/"
        }
      },
      "id": "gsenicGh5VUK",
      "execution_count": 12,
      "outputs": [
        {
          "output_type": "execute_result",
          "data": {
            "text/plain": [
              "1    4\n",
              "2    3\n",
              "3    2\n",
              "4    1\n",
              "dtype: int64"
            ]
          },
          "metadata": {},
          "execution_count": 12
        }
      ]
    },
    {
      "cell_type": "code",
      "source": [
        "s.describe()"
      ],
      "metadata": {
        "id": "lf15i-pp5VXS",
        "outputId": "c5072e10-b100-400e-fa93-e96f34e41144",
        "colab": {
          "base_uri": "https://localhost:8080/"
        }
      },
      "id": "lf15i-pp5VXS",
      "execution_count": 13,
      "outputs": [
        {
          "output_type": "execute_result",
          "data": {
            "text/plain": [
              "count    10.000000\n",
              "mean      2.000000\n",
              "std       1.054093\n",
              "min       1.000000\n",
              "25%       1.000000\n",
              "50%       2.000000\n",
              "75%       2.750000\n",
              "max       4.000000\n",
              "dtype: float64"
            ]
          },
          "metadata": {},
          "execution_count": 13
        }
      ]
    },
    {
      "cell_type": "markdown",
      "source": [
        "#### **Aplicar operaciones a una serie**\n",
        "Los operadores binarios `(+, *, /, etc.)` pueden utilizarse con una serie, y devuelven otra serie con el resultado de aplicar la operación a cada elemento de la serie."
      ],
      "metadata": {
        "id": "9WRR167k5dO-"
      },
      "id": "9WRR167k5dO-"
    },
    {
      "cell_type": "code",
      "source": [
        "s = pd.Series([1, 2, 3, 4])\n",
        "s*2,s%2"
      ],
      "metadata": {
        "id": "rxIF4GNT5i0h",
        "outputId": "e0fff8b1-1380-4bc3-e441-1860bc996721",
        "colab": {
          "base_uri": "https://localhost:8080/"
        }
      },
      "id": "rxIF4GNT5i0h",
      "execution_count": 14,
      "outputs": [
        {
          "output_type": "execute_result",
          "data": {
            "text/plain": [
              "(0    2\n",
              " 1    4\n",
              " 2    6\n",
              " 3    8\n",
              " dtype: int64, 0    1\n",
              " 1    0\n",
              " 2    1\n",
              " 3    0\n",
              " dtype: int64)"
            ]
          },
          "metadata": {},
          "execution_count": 14
        }
      ]
    },
    {
      "cell_type": "code",
      "source": [
        "s = pd.Series(['a', 'b', 'c'])\n",
        "s*5"
      ],
      "metadata": {
        "id": "0vyuFo2m5tuY",
        "outputId": "a141fe02-381d-49a2-e36a-843fef3d0858",
        "colab": {
          "base_uri": "https://localhost:8080/"
        }
      },
      "id": "0vyuFo2m5tuY",
      "execution_count": 15,
      "outputs": [
        {
          "output_type": "execute_result",
          "data": {
            "text/plain": [
              "0    aaaaa\n",
              "1    bbbbb\n",
              "2    ccccc\n",
              "dtype: object"
            ]
          },
          "metadata": {},
          "execution_count": 15
        }
      ]
    },
    {
      "cell_type": "markdown",
      "source": [
        "#### **Aplicar funciones a una serie**\n",
        "También es posible aplicar una función a cada elemento de la serie mediante el siguiente método: `s.apply(f)` devuelve una serie con el resultado de aplicar la función f a cada uno de los elementos de la serie s."
      ],
      "metadata": {
        "id": "g4umKtHS5zFO"
      },
      "id": "g4umKtHS5zFO"
    },
    {
      "cell_type": "code",
      "source": [
        "from math import log\n",
        "s = pd.Series([1, 2, 3, 4])\n",
        "s.apply(log)"
      ],
      "metadata": {
        "id": "TVwmxoEZ55an",
        "outputId": "9a01940c-dbde-4d0d-b604-3977c4cea9b1",
        "colab": {
          "base_uri": "https://localhost:8080/"
        }
      },
      "id": "TVwmxoEZ55an",
      "execution_count": 16,
      "outputs": [
        {
          "output_type": "execute_result",
          "data": {
            "text/plain": [
              "0    0.000000\n",
              "1    0.693147\n",
              "2    1.098612\n",
              "3    1.386294\n",
              "dtype: float64"
            ]
          },
          "metadata": {},
          "execution_count": 16
        }
      ]
    },
    {
      "cell_type": "markdown",
      "source": [
        "#### **Filtrado de una serie**\n",
        "Para filtrar una serie y quedarse con los valores que cumplen una determinada condición se utiliza el siguiente método; `s[condicion]` : Devuelve una serie con los elementos de la serie `s` que se corresponden con el valor `True` de la lista booleana `condicion.condicion` debe ser una lista de valores booleanos de la misma longitud que la serie."
      ],
      "metadata": {
        "id": "0l3xjzO7y6qu"
      },
      "id": "0l3xjzO7y6qu"
    },
    {
      "cell_type": "code",
      "source": [
        "s = pd.Series({'Matemáticas': 6.0,  'Economía': 4.5, 'Programación': 8.5})\n",
        "print(s[s > 5])"
      ],
      "metadata": {
        "id": "JnwX_lvbzUTX",
        "outputId": "23537be1-d467-42f3-96a5-5c84907def79",
        "colab": {
          "base_uri": "https://localhost:8080/"
        }
      },
      "id": "JnwX_lvbzUTX",
      "execution_count": 17,
      "outputs": [
        {
          "output_type": "stream",
          "name": "stdout",
          "text": [
            "Matemáticas     6.0\n",
            "Programación    8.5\n",
            "dtype: float64\n"
          ]
        }
      ]
    },
    {
      "cell_type": "markdown",
      "source": [
        "#### **Ordenar una serie**\n",
        "Para ordenar una serie se utilizan los siguientes métodos:\n",
        "\n",
        "- `s.sort_values(ascending=booleano) `: Devuelve la serie que resulta de ordenar los valores la serie s. Si argumento del parámetro `ascending` es `True` el orden es creciente y si es `False` decreciente.\n",
        "\n",
        "- `df.sort_index(ascending=booleano)` : Devuelve la serie que resulta de ordenar el índice de la serie s. Si el argumento del parámetro `ascending` es `True` el orden es creciente y si es `False` decreciente."
      ],
      "metadata": {
        "id": "979rSUTdzz6T"
      },
      "id": "979rSUTdzz6T"
    },
    {
      "cell_type": "code",
      "source": [
        "s = pd.Series({'Matemáticas': 6.0,  'Economía': 4.5, 'Programación': 8.5})\n",
        "print(s.sort_values())"
      ],
      "metadata": {
        "id": "xti71lX40Lyp",
        "outputId": "725d502d-d798-485c-89e8-738fff221668",
        "colab": {
          "base_uri": "https://localhost:8080/"
        }
      },
      "id": "xti71lX40Lyp",
      "execution_count": 18,
      "outputs": [
        {
          "output_type": "stream",
          "name": "stdout",
          "text": [
            "Economía        4.5\n",
            "Matemáticas     6.0\n",
            "Programación    8.5\n",
            "dtype: float64\n"
          ]
        }
      ]
    },
    {
      "cell_type": "code",
      "source": [
        "print(s.sort_index(ascending = False))"
      ],
      "metadata": {
        "id": "aBUxCa9L0VGb",
        "outputId": "4c837ff2-233c-438d-8879-e75d41b55fb0",
        "colab": {
          "base_uri": "https://localhost:8080/"
        }
      },
      "id": "aBUxCa9L0VGb",
      "execution_count": 19,
      "outputs": [
        {
          "output_type": "stream",
          "name": "stdout",
          "text": [
            "Programación    8.5\n",
            "Matemáticas     6.0\n",
            "Economía        4.5\n",
            "dtype: float64\n"
          ]
        }
      ]
    }
  ],
  "metadata": {
    "kernelspec": {
      "display_name": "Python 3 (ipykernel)",
      "language": "python",
      "name": "python3"
    },
    "language_info": {
      "codemirror_mode": {
        "name": "ipython",
        "version": 3
      },
      "file_extension": ".py",
      "mimetype": "text/x-python",
      "name": "python",
      "nbconvert_exporter": "python",
      "pygments_lexer": "ipython3",
      "version": "3.9.7"
    },
    "colab": {
      "name": "Pandas.ipynb",
      "provenance": []
    }
  },
  "nbformat": 4,
  "nbformat_minor": 5
}