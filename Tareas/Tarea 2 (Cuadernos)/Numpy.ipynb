{
  "cells": [
    {
      "cell_type": "markdown",
      "source": [
        "# **La librería Numpy**\n",
        "---\n",
        "\n",
        "NumPy es una librería de Python especializada en el cálculo numérico y el análisis de datos, especialmente para un gran volumen de datos.\n",
        "\n",
        "Incorpora una nueva clase de objetos llamados arrays que permite representar colecciones de datos de un mismo tipo en varias dimensiones, y funciones muy eficientes para su manipulación."
      ],
      "metadata": {
        "id": "jiQ0s9w4pEH3"
      },
      "id": "jiQ0s9w4pEH3"
    },
    {
      "cell_type": "code",
      "source": [
        "import numpy as np"
      ],
      "metadata": {
        "id": "lY3yrHVD3LFT"
      },
      "id": "lY3yrHVD3LFT",
      "execution_count": 2,
      "outputs": []
    },
    {
      "cell_type": "markdown",
      "source": [
        "## **La clase de objetos array**\n",
        "Un array es una estructura de datos de un mismo tipo organizada en forma de tabla o cuadrícula de distintas dimensiones. Las dimensiones de un array también se conocen como ejes."
      ],
      "metadata": {
        "id": "adJfo6vq2MZE"
      },
      "id": "adJfo6vq2MZE"
    },
    {
      "cell_type": "markdown",
      "source": [
        "### **Creación de arrays**\n",
        "Para crear un array se utiliza la siguiente función de NumPy\n",
        "\n",
        "`np.array(lista)` : Crea un array a partir de la lista o tupla `lista` y devuelve una referencia a él. El número de dimensiones del array dependerá de las listas o tuplas anidadas en `lista`:\n",
        "\n",
        "Para una lista de valores se crea un array de una dimensión, también conocido como **vector**.\n",
        "Para una lista de listas de valores se crea un array de dos dimensiones, también conocido como **matriz**.\n",
        "Para una lista de listas de listas de valores se crea un array de tres dimensiones, también conocido como **cubo**.\n",
        "Y así sucesivamente. No hay límite en el número de dimensiones del array más allá de la memoria disponible en el sistema.\n",
        "\n",
        "Los elementos de la lista o tupla deben ser del mismo tipo."
      ],
      "metadata": {
        "id": "qnWiJy8T2W8P"
      },
      "id": "qnWiJy8T2W8P"
    },
    {
      "cell_type": "code",
      "source": [
        "# Array de una dimensión\n",
        "a1 = np.array([1, 2, 3])\n",
        "print(a1)"
      ],
      "metadata": {
        "id": "7CV43Qyt3BVV",
        "outputId": "490192fe-ee16-4f7f-9572-3264be199096",
        "colab": {
          "base_uri": "https://localhost:8080/"
        }
      },
      "id": "7CV43Qyt3BVV",
      "execution_count": 3,
      "outputs": [
        {
          "output_type": "stream",
          "name": "stdout",
          "text": [
            "[1 2 3]\n"
          ]
        }
      ]
    },
    {
      "cell_type": "code",
      "source": [
        "# Array de dos dimensiones\n",
        "a2 = np.array([[1, 2, 3], [4, 5, 6]])\n",
        "print(a2)"
      ],
      "metadata": {
        "id": "mBTkkqEY3YGa",
        "outputId": "614ab69f-7024-463e-f26a-2782351f657f",
        "colab": {
          "base_uri": "https://localhost:8080/"
        }
      },
      "id": "mBTkkqEY3YGa",
      "execution_count": 4,
      "outputs": [
        {
          "output_type": "stream",
          "name": "stdout",
          "text": [
            "[[1 2 3]\n",
            " [4 5 6]]\n"
          ]
        }
      ]
    },
    {
      "cell_type": "code",
      "source": [
        "# Array de tres dimensiones\n",
        "a3 = np.array([[[1, 2, 3], [4, 5, 6]], [[7, 8, 9], [10, 11, 12]]])\n",
        "print(a3)"
      ],
      "metadata": {
        "id": "LZuNKucv3gWx",
        "outputId": "7e597c5f-c4ba-4948-a370-614ee76f4359",
        "colab": {
          "base_uri": "https://localhost:8080/"
        }
      },
      "id": "LZuNKucv3gWx",
      "execution_count": 5,
      "outputs": [
        {
          "output_type": "stream",
          "name": "stdout",
          "text": [
            "[[[ 1  2  3]\n",
            "  [ 4  5  6]]\n",
            "\n",
            " [[ 7  8  9]\n",
            "  [10 11 12]]]\n"
          ]
        }
      ]
    },
    {
      "cell_type": "markdown",
      "source": [
        "#### **Otras funciones útiles que permiten generar arrays son:**\n",
        "\n",
        "`np.empty(dimensiones)` : Crea y devuelve una referencia a un array vacío con las dimensiones especificadas en la tupla `dimensiones`.\n",
        "\n",
        "`np.zeros(dimensiones)` : Crea y devuelve una referencia a un array con las dimensiones especificadas en la tupla `dimensiones` cuyos elementos son todos ceros.\n",
        "\n",
        "`np.ones(dimensiones)`: Crea y devuelve una referencia a un array con las dimensiones especificadas en la tupla `dimensiones` cuyos elementos son todos unos.\n",
        "\n",
        "`np.full(dimensiones, valor)` : Crea y devuelve una referencia a un array con las dimensiones especificadas en la tupla `dimensiones` cuyos elementos son todos `valor`.\n",
        "\n",
        "`np.identity(n)` : Crea y devuelve una referencia a la matriz identidad de dimensión `n`.\n",
        "\n",
        "`np.arange(inicio, fin, salto)` : Crea y devuelve una referencia a un array de una dimensión cuyos elementos son la secuencia desde `inicio` hasta `fin` tomando valores cada `salto`.\n",
        "\n",
        "`np.linspace(inicio, fin, n)` : Crea y devuelve una referencia a un array de una dimensión cuyos elementos son la secuencia de `n` valores equidistantes desde `inicio` hasta `fin`.\n",
        "\n",
        "`np.random.random(dimensiones)` : Crea y devuelve una referencia a un array con las dimensiones especificadas en la tupla `dimensiones` cuyos elementos son aleatorios."
      ],
      "metadata": {
        "id": "Jot6ZdAT3lmk"
      },
      "id": "Jot6ZdAT3lmk"
    },
    {
      "cell_type": "code",
      "source": [
        "np.zeros((3,2))"
      ],
      "metadata": {
        "id": "qAzPShtg4nd9",
        "outputId": "174c03ae-5aaf-484e-f0a0-db7ce189be6a",
        "colab": {
          "base_uri": "https://localhost:8080/"
        }
      },
      "id": "qAzPShtg4nd9",
      "execution_count": 8,
      "outputs": [
        {
          "output_type": "execute_result",
          "data": {
            "text/plain": [
              "array([[0., 0.],\n",
              "       [0., 0.],\n",
              "       [0., 0.]])"
            ]
          },
          "metadata": {},
          "execution_count": 8
        }
      ]
    },
    {
      "cell_type": "code",
      "source": [
        "np.identity(3)"
      ],
      "metadata": {
        "id": "4BS-kDeH5GXJ",
        "outputId": "fbefc7dc-f801-4ba3-d1f5-610393a46a7f",
        "colab": {
          "base_uri": "https://localhost:8080/"
        }
      },
      "id": "4BS-kDeH5GXJ",
      "execution_count": 15,
      "outputs": [
        {
          "output_type": "execute_result",
          "data": {
            "text/plain": [
              "array([[1., 0., 0.],\n",
              "       [0., 1., 0.],\n",
              "       [0., 0., 1.]])"
            ]
          },
          "metadata": {},
          "execution_count": 15
        }
      ]
    },
    {
      "cell_type": "code",
      "source": [
        "np.arange(1, 10, 2)"
      ],
      "metadata": {
        "id": "aiJghqQ05kLN",
        "outputId": "7004d1e1-71a1-4258-f195-75453454e47d",
        "colab": {
          "base_uri": "https://localhost:8080/"
        }
      },
      "id": "aiJghqQ05kLN",
      "execution_count": 16,
      "outputs": [
        {
          "output_type": "execute_result",
          "data": {
            "text/plain": [
              "array([1, 3, 5, 7, 9])"
            ]
          },
          "metadata": {},
          "execution_count": 16
        }
      ]
    },
    {
      "cell_type": "code",
      "source": [
        "np.linspace(0, 10, 5)"
      ],
      "metadata": {
        "id": "pckigoeK5ohp",
        "outputId": "5ecac933-03e2-4e01-b251-89f343b6ad24",
        "colab": {
          "base_uri": "https://localhost:8080/"
        }
      },
      "id": "pckigoeK5ohp",
      "execution_count": 17,
      "outputs": [
        {
          "output_type": "execute_result",
          "data": {
            "text/plain": [
              "array([ 0. ,  2.5,  5. ,  7.5, 10. ])"
            ]
          },
          "metadata": {},
          "execution_count": 17
        }
      ]
    },
    {
      "cell_type": "markdown",
      "source": [
        "#### **Atributos de un array**\n",
        "Existen varios atributos y funciones que describen las características de un array.\n",
        "\n",
        "`a.ndi` : Devuelve el número de dimensiones del array `a`.\n",
        "\n",
        "`a.shape` : Devuelve una tupla con las dimensiones del array `a`.\n",
        "\n",
        "`a.size` : Devuelve el número de elementos del array `a`.\n",
        "\n",
        "`a.dtype`: Devuelve el tipo de datos de los elementos del array `a`.\n",
        "\n",
        "#### **Acceso a los elementos de un array**\n",
        "Para acceder a los elementos contenidos en un array se usan índices al igual que para acceder a los elementos de una lista, pero indicando los índices de cada dimensión separados por comas.\n",
        "\n",
        "Al igual que para listas, los índices de cada dimensión comienzn en 0.\n",
        "\n",
        "También es posible obtener subarrays con el operador dos puntos `:` indicando el índice inicial y el siguiente al final para cada dimensión, de nuevo separados por comas."
      ],
      "metadata": {
        "id": "SkTgkr7s5raV"
      },
      "id": "SkTgkr7s5raV"
    },
    {
      "cell_type": "code",
      "source": [
        "a = np.array([[1, 2, 3], [4, 5, 6]])\n",
        "print(a[1, 0])  # Acceso al elemento de la fila 1 columna 0"
      ],
      "metadata": {
        "id": "-IagSKh16J6s",
        "outputId": "90d2fc57-ebc4-4118-8366-f56a79d117af",
        "colab": {
          "base_uri": "https://localhost:8080/"
        }
      },
      "id": "-IagSKh16J6s",
      "execution_count": 18,
      "outputs": [
        {
          "output_type": "stream",
          "name": "stdout",
          "text": [
            "4\n"
          ]
        }
      ]
    },
    {
      "cell_type": "code",
      "source": [
        "print(a[1][0])  # Otra forma de acceder al mismo elemento"
      ],
      "metadata": {
        "id": "HWj8R1WF6OiT",
        "outputId": "491f2c54-4ca1-4890-9600-631310b6b415",
        "colab": {
          "base_uri": "https://localhost:8080/"
        }
      },
      "id": "HWj8R1WF6OiT",
      "execution_count": 19,
      "outputs": [
        {
          "output_type": "stream",
          "name": "stdout",
          "text": [
            "4\n"
          ]
        }
      ]
    },
    {
      "cell_type": "code",
      "source": [
        "print(a[:, 0:2])"
      ],
      "metadata": {
        "id": "IgQnHrFK6RE3",
        "outputId": "43fef814-cb44-41f8-eb9a-fc9098f4442b",
        "colab": {
          "base_uri": "https://localhost:8080/"
        }
      },
      "id": "IgQnHrFK6RE3",
      "execution_count": 20,
      "outputs": [
        {
          "output_type": "stream",
          "name": "stdout",
          "text": [
            "[[1 2]\n",
            " [4 5]]\n"
          ]
        }
      ]
    },
    {
      "cell_type": "markdown",
      "source": [
        "#### **Filtrado de elementos de un array**\n",
        "Una característica muy útil de los arrays es que es muy fácil obtener otro array con los elementos que cumplen una condición.\n",
        "\n",
        "`a[condicion]` : Devuelve una lista con los elementos del array `a` que cumplen la condición `condicion`."
      ],
      "metadata": {
        "id": "o5-vv-ba6TC_"
      },
      "id": "o5-vv-ba6TC_"
    },
    {
      "cell_type": "code",
      "source": [
        "a = np.array([[1, 2, 3], [4, 5, 6]])\n",
        "print(a[(a % 2 == 0)])"
      ],
      "metadata": {
        "id": "J7rjGV8x6pgM",
        "outputId": "15e245e2-d626-4647-8517-74cdd49c0ed0",
        "colab": {
          "base_uri": "https://localhost:8080/"
        }
      },
      "id": "J7rjGV8x6pgM",
      "execution_count": 21,
      "outputs": [
        {
          "output_type": "stream",
          "name": "stdout",
          "text": [
            "[2 4 6]\n"
          ]
        }
      ]
    },
    {
      "cell_type": "code",
      "source": [
        "print(a[(a % 2 == 0) &  (a > 2)])"
      ],
      "metadata": {
        "id": "J3IKDcDR68Ih",
        "outputId": "3578448b-c32d-45b2-dce5-2200fd9acbd8",
        "colab": {
          "base_uri": "https://localhost:8080/"
        }
      },
      "id": "J3IKDcDR68Ih",
      "execution_count": 22,
      "outputs": [
        {
          "output_type": "stream",
          "name": "stdout",
          "text": [
            "[4 6]\n"
          ]
        }
      ]
    },
    {
      "cell_type": "markdown",
      "source": [
        "#### **Operaciones matemáticas con arrays**\n",
        "Existen dos formas de realizar operaciones matemáticas con arrays: a nivel de elemento y a nivel de array.\n",
        "\n",
        "Las operaciones a nivel de elemento operan los elementos que ocupan la misma posición en dos arrays. Se necesitan, por tanto, dos arrays con las mismas dimensiones y el resultado es una array de la misma dimensión.\n",
        "\n",
        "Los operadores mamemáticos `+`, `-`, `*`,` /`, `%`, `**` se utilizan para la realizar suma, resta, producto, cociente, resto y potencia a nivel de elemento."
      ],
      "metadata": {
        "id": "8VARfrZI7Evv"
      },
      "id": "8VARfrZI7Evv"
    },
    {
      "cell_type": "code",
      "source": [
        "a = np.array([[1, 2, 3], [4, 5, 6]])\n",
        "b = np.array([[1, 1, 1], [2, 2, 2]])\n",
        "print(a + b )"
      ],
      "metadata": {
        "id": "meAmTKxy7SrX",
        "outputId": "12d31613-894f-4ae2-c249-f59ad0d1b91b",
        "colab": {
          "base_uri": "https://localhost:8080/"
        }
      },
      "id": "meAmTKxy7SrX",
      "execution_count": 23,
      "outputs": [
        {
          "output_type": "stream",
          "name": "stdout",
          "text": [
            "[[2 3 4]\n",
            " [6 7 8]]\n"
          ]
        }
      ]
    },
    {
      "cell_type": "code",
      "source": [
        "print(a / b)"
      ],
      "metadata": {
        "id": "uTaJRvB07YV5",
        "outputId": "004f7963-365c-4f2b-f58c-ec8854dedbdb",
        "colab": {
          "base_uri": "https://localhost:8080/"
        }
      },
      "id": "uTaJRvB07YV5",
      "execution_count": 24,
      "outputs": [
        {
          "output_type": "stream",
          "name": "stdout",
          "text": [
            "[[1.  2.  3. ]\n",
            " [2.  2.5 3. ]]\n"
          ]
        }
      ]
    },
    {
      "cell_type": "code",
      "source": [
        "print(a ** 2)"
      ],
      "metadata": {
        "id": "lHjQ1bnd7bT1",
        "outputId": "8d0d18b3-f147-4cad-9b74-34fb73a9a4e2",
        "colab": {
          "base_uri": "https://localhost:8080/"
        }
      },
      "id": "lHjQ1bnd7bT1",
      "execution_count": 25,
      "outputs": [
        {
          "output_type": "stream",
          "name": "stdout",
          "text": [
            "[[ 1  4  9]\n",
            " [16 25 36]]\n"
          ]
        }
      ]
    },
    {
      "cell_type": "markdown",
      "source": [
        "#### **Operaciones matemáticas a nivel de array**\n",
        "Para realizar el producto matricial se utiliza el método\n",
        "\n",
        "`a.dot(b)` : Devuelve el array resultado del producto matricial de los arrays `a` y `b` siempre y cuando sus dimensiones sean compatibles.\n",
        "\n",
        "Y para trasponer una matriz se utiliza el método\n",
        "\n",
        "`a.T` : Devuelve el array resultado de trasponer el array `a`."
      ],
      "metadata": {
        "id": "3xoeG3t37eRi"
      },
      "id": "3xoeG3t37eRi"
    },
    {
      "cell_type": "code",
      "source": [
        "a = np.array([[1, 2, 3], [4, 5, 6]])\n",
        "b = np.array([[1, 1], [2, 2], [3, 3]])\n",
        "print(a.dot(b))"
      ],
      "metadata": {
        "id": "JTXZ4YcS7qwG",
        "outputId": "38bb9c08-21ff-48f7-c0e3-b1291e3029f2",
        "colab": {
          "base_uri": "https://localhost:8080/"
        }
      },
      "id": "JTXZ4YcS7qwG",
      "execution_count": 26,
      "outputs": [
        {
          "output_type": "stream",
          "name": "stdout",
          "text": [
            "[[14 14]\n",
            " [32 32]]\n"
          ]
        }
      ]
    },
    {
      "cell_type": "code",
      "source": [
        "print(a.T)"
      ],
      "metadata": {
        "id": "_aizjtrn7tMW",
        "outputId": "2fa974dc-b891-407e-a2a0-3e767e12b10c",
        "colab": {
          "base_uri": "https://localhost:8080/"
        }
      },
      "id": "_aizjtrn7tMW",
      "execution_count": 27,
      "outputs": [
        {
          "output_type": "stream",
          "name": "stdout",
          "text": [
            "[[1 4]\n",
            " [2 5]\n",
            " [3 6]]\n"
          ]
        }
      ]
    }
  ],
  "metadata": {
    "kernelspec": {
      "display_name": "Python 3 (ipykernel)",
      "language": "python",
      "name": "python3"
    },
    "language_info": {
      "codemirror_mode": {
        "name": "ipython",
        "version": 3
      },
      "file_extension": ".py",
      "mimetype": "text/x-python",
      "name": "python",
      "nbconvert_exporter": "python",
      "pygments_lexer": "ipython3",
      "version": "3.9.7"
    },
    "colab": {
      "name": "Numpy.ipynb",
      "provenance": []
    }
  },
  "nbformat": 4,
  "nbformat_minor": 5
}