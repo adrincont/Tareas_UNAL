{
 "cells": [
  {
   "cell_type": "markdown",
   "metadata": {},
   "source": [
    "# **Predecir eficiencia de la gasolina (Pytorch-Ligthning)**\n",
    "Andrey Duvan Rincon Torres\n",
    "\n",
    "---"
   ]
  },
  {
   "cell_type": "code",
   "execution_count": 1,
   "metadata": {},
   "outputs": [
    {
     "name": "stderr",
     "output_type": "stream",
     "text": [
      "C:\\Users\\adrin\\.conda\\envs\\IA\\lib\\site-packages\\tqdm\\auto.py:22: TqdmWarning: IProgress not found. Please update jupyter and ipywidgets. See https://ipywidgets.readthedocs.io/en/stable/user_install.html\n",
      "  from .autonotebook import tqdm as notebook_tqdm\n"
     ]
    }
   ],
   "source": [
    "# Librerias Nesesarias\n",
    "import torch\n",
    "import pandas as pd\n",
    "import numpy as np\n",
    "from torch import nn\n",
    "import pytorch_lightning as pl\n",
    "from torch.utils.data import Dataset, TensorDataset, DataLoader\n",
    "from torchtext.utils import download_from_url\n",
    "from torchmetrics.functional import accuracy\n",
    "mse_loss = nn.MSELoss(reduction = 'mean')"
   ]
  },
  {
   "cell_type": "markdown",
   "metadata": {},
   "source": [
    "## **El modelo**"
   ]
  },
  {
   "cell_type": "code",
   "execution_count": 2,
   "metadata": {},
   "outputs": [],
   "source": [
    "\n",
    "# Definimos modelo y proceso de entrenamiento\n",
    "class Regression(pl.LightningModule):\n",
    "    # creamos la estructura de la red\n",
    "    def __init__(self):\n",
    "        super(Regression,self).__init__()\n",
    "        self.layer_1 = torch.nn.Linear(9,64)\n",
    "        self.layer_2 = torch.nn.Linear(64,64)\n",
    "        self.layer_3 = torch.nn.Linear(64,1)\n",
    "    # definimos el comportamiento de las capas\n",
    "    def forward(self, x):\n",
    "        # layer 1 (activacion relu)\n",
    "        x = self.layer_1(x)\n",
    "        x = torch.relu(x)\n",
    "        # layer 2 (activacion relu)\n",
    "        x = self.layer_2(x)\n",
    "        x = torch.relu(x)\n",
    "        # layer 3 (salida final sin activacion)\n",
    "        x = self.layer_3(x)\n",
    "        return x\n",
    "    \n",
    "    def training_step(self, batch, batch_idx):\n",
    "        x, y = batch\n",
    "        y_hat = self.forward(x)\n",
    "        loss = mse_loss(y_hat, y)\n",
    "        logs = {'loss': loss}\n",
    "        return {'loss': loss, 'log': logs}\n",
    "    \n",
    "    def validation_step(self, batch, batch_idx):\n",
    "        loss = self._shared_eval_step(batch, batch_idx)\n",
    "        return {\"val_loss\": loss}\n",
    "    def validation_epoch_end(self, outputs):\n",
    "        avg_loss = torch.stack([x['val_loss'] for x in outputs]).mean()\n",
    "        tensorboard_logs = {'val_loss': avg_loss}\n",
    "        return {'avg_val_loss': avg_loss, 'log': tensorboard_logs}\n",
    "    \n",
    "    def test_step(self, batch, batch_idx):\n",
    "        loss, acc = self._shared_eval_step(batch, batch_idx)\n",
    "        metrics = {\"test_acc\": acc, \"test_loss\": loss}\n",
    "        self.log_dict(metrics)\n",
    "        return metrics\n",
    "    \n",
    "    def _shared_eval_step(self,batch,batch_idx):\n",
    "        x, y  = batch\n",
    "        y_hat = self.forward(x)\n",
    "        loss = mse_loss(y_hat, y)\n",
    "        return loss\n",
    "    \n",
    "    def test_step(self, batch, batch_idx):\n",
    "        x, y = batch\n",
    "        y_hat = self.forward(x)\n",
    "        loss = mse_loss(y_hat, y)\n",
    "        correct = torch.sum(y_hat == y.data)\n",
    "        predictions_pred.append(y_hat)\n",
    "        predictions_actual.append(y.data)\n",
    "        return {'test_loss': loss, 'test_correct': correct, 'logits': y_hat}\n",
    "    def test_epoch_end(self, outputs):\n",
    "        avg_loss = torch.stack([x['test_loss'] for x in outputs]).mean()\n",
    "        logs = {'test_loss': avg_loss}      \n",
    "        return {'avg_test_loss': avg_loss, 'log': logs, 'progress_bar': logs }\n",
    "    \n",
    "    def configure_optimizers(self):\n",
    "        return torch.optim.Adam(self.parameters(), lr=0.02)"
   ]
  },
  {
   "cell_type": "markdown",
   "metadata": {},
   "source": [
    "## **Los datos**"
   ]
  },
  {
   "cell_type": "code",
   "execution_count": 3,
   "metadata": {},
   "outputs": [],
   "source": [
    "url = 'http://archive.ics.uci.edu/ml/machine-learning-databases/auto-mpg/auto-mpg.data'\n",
    "path = 'auto-mpg.data'\n",
    "download_from_url(url,path)\n",
    "column_names = ['MPG','Cylinders','Displacement','Horsepower','Weight',\n",
    "                'Acceleration', 'Model Year', 'Origin']\n",
    "raw_dataset = pd.read_csv('auto-mpg.data', names=column_names, na_values = \"?\", comment='\\t', sep=\" \", skipinitialspace=True)\n",
    "dataset = raw_dataset.dropna()\n",
    "train_dataset = dataset.sample(frac=0.8,random_state=0)\n",
    "test_dataset = dataset.drop(train_dataset.index)\n",
    "        \n",
    "        "
   ]
  },
  {
   "cell_type": "code",
   "execution_count": 4,
   "metadata": {},
   "outputs": [],
   "source": [
    "class DataModule(pl.LightningDataModule):\n",
    "    def __init__(self, batch_size = 1):\n",
    "        super(DataModule,self).__init__()\n",
    "        self.batch_size = batch_size\n",
    "    \n",
    "    def transform(self, x):\n",
    "        self.train_stats = train_dataset.describe().transpose()\n",
    "        tab = x.copy()\n",
    "        origin = tab.pop('Origin')\n",
    "        tab = (tab - self.train_stats['mean'][:-1])/self.train_stats['std'][:-1]\n",
    "        tab['USA'] = (origin == 1)*1.0\n",
    "        tab['Europe'] = (origin == 2)*1.0\n",
    "        tab['Japan'] = (origin == 3)*1.0\n",
    "        return tab\n",
    "    \n",
    "    def setup(self, stage):\n",
    "        train_data = self.transform(train_dataset)\n",
    "        test_data = self.transform(test_dataset)\n",
    "        val_data = train_data.sample(frac=0.2,random_state=0)\n",
    "        train_data = train_data.drop(val_data.index)\n",
    "        \n",
    "        self.train_dataset = TensorDataset(torch.tensor(train_data.drop(['MPG'], axis = 1).values.astype(np.float32))\n",
    "                              ,torch.tensor(train_data['MPG'].values.astype(np.float32)))\n",
    "        self.test_dataset = TensorDataset(torch.tensor(test_data.drop(['MPG'], axis = 1).values.astype(np.float32))\n",
    "                              ,torch.tensor(test_data['MPG'].values.astype(np.float32)))\n",
    "        self.val_dataset = TensorDataset(torch.tensor(val_data.drop(['MPG'], axis = 1).values.astype(np.float32))\n",
    "                              ,torch.tensor(val_data['MPG'].values.astype(np.float32)))\n",
    "        \n",
    "    def train_dataloader(self):\n",
    "        return DataLoader(self.train_dataset, batch_size=self.batch_size)\n",
    "    \n",
    "    def val_dataloader(self):\n",
    "        return DataLoader(self.val_dataset, batch_size=self.batch_size)\n",
    "    \n",
    "    def test_dataloader(self):\n",
    "        return DataLoader(self.test_dataset, batch_size=self.batch_size)\n"
   ]
  },
  {
   "cell_type": "code",
   "execution_count": 13,
   "metadata": {},
   "outputs": [
    {
     "name": "stderr",
     "output_type": "stream",
     "text": [
      "GPU available: False, used: False\n",
      "TPU available: False, using: 0 TPU cores\n",
      "IPU available: False, using: 0 IPUs\n",
      "\n",
      "  | Name    | Type   | Params\n",
      "-----------------------------------\n",
      "0 | layer_1 | Linear | 640   \n",
      "1 | layer_2 | Linear | 4.2 K \n",
      "2 | layer_3 | Linear | 65    \n",
      "-----------------------------------\n",
      "4.9 K     Trainable params\n",
      "0         Non-trainable params\n",
      "4.9 K     Total params\n",
      "0.019     Total estimated model params size (MB)\n"
     ]
    },
    {
     "name": "stdout",
     "output_type": "stream",
     "text": [
      "                                                              "
     ]
    },
    {
     "name": "stderr",
     "output_type": "stream",
     "text": [
      "C:\\Users\\adrin\\.conda\\envs\\IA\\lib\\site-packages\\pytorch_lightning\\trainer\\data_loading.py:132: UserWarning: The dataloader, val_dataloader 0, does not have many workers which may be a bottleneck. Consider increasing the value of the `num_workers` argument` (try 8 which is the number of cpus on this machine) in the `DataLoader` init to improve performance.\n",
      "  rank_zero_warn(\n",
      "C:\\Users\\adrin\\.conda\\envs\\IA\\lib\\site-packages\\torch\\nn\\modules\\loss.py:520: UserWarning: Using a target size (torch.Size([1])) that is different to the input size (torch.Size([1, 1])). This will likely lead to incorrect results due to broadcasting. Please ensure they have the same size.\n",
      "  return F.mse_loss(input, target, reduction=self.reduction)\n",
      "C:\\Users\\adrin\\.conda\\envs\\IA\\lib\\site-packages\\pytorch_lightning\\trainer\\data_loading.py:132: UserWarning: The dataloader, train_dataloader, does not have many workers which may be a bottleneck. Consider increasing the value of the `num_workers` argument` (try 8 which is the number of cpus on this machine) in the `DataLoader` init to improve performance.\n",
      "  rank_zero_warn(\n"
     ]
    },
    {
     "name": "stdout",
     "output_type": "stream",
     "text": [
      "Epoch 0:   5%|▍         | 15/314 [00:00<00:02, 136.73it/s, loss=0.913, v_num=21]"
     ]
    },
    {
     "name": "stderr",
     "output_type": "stream",
     "text": [
      "C:\\Users\\adrin\\.conda\\envs\\IA\\lib\\site-packages\\pytorch_lightning\\loops\\optimization\\closure.py:35: LightningDeprecationWarning: One of the returned values {'log'} has a `grad_fn`. We will detach it automatically but this behaviour will change in v1.6. Please detach it manually: `return {'loss': ..., 'something': something.detach()}`\n",
      "  rank_zero_deprecation(\n"
     ]
    },
    {
     "name": "stdout",
     "output_type": "stream",
     "text": [
      "Epoch 216:  74%|███████▎  | 231/314 [00:02<00:00, 89.24it/s, loss=0.0971, v_num=21] "
     ]
    },
    {
     "name": "stderr",
     "output_type": "stream",
     "text": [
      "C:\\Users\\adrin\\.conda\\envs\\IA\\lib\\site-packages\\pytorch_lightning\\trainer\\trainer.py:688: UserWarning: Detected KeyboardInterrupt, attempting graceful shutdown...\n",
      "  rank_zero_warn(\"Detected KeyboardInterrupt, attempting graceful shutdown...\")\n"
     ]
    }
   ],
   "source": [
    "data_module = DataModule()\n",
    "task = Regression()\n",
    "trainer = pl.Trainer()\n",
    "trainer.fit(task,data_module)"
   ]
  }
 ],
 "metadata": {
  "interpreter": {
   "hash": "94e7570899995adebab4ebab5cd3752e227f734c99b4f5f3f0d280f8bef09b63"
  },
  "kernelspec": {
   "display_name": "Python 3.9.7 ('IA')",
   "language": "python",
   "name": "python3"
  },
  "language_info": {
   "codemirror_mode": {
    "name": "ipython",
    "version": 3
   },
   "file_extension": ".py",
   "mimetype": "text/x-python",
   "name": "python",
   "nbconvert_exporter": "python",
   "pygments_lexer": "ipython3",
   "version": "3.9.7"
  },
  "orig_nbformat": 4
 },
 "nbformat": 4,
 "nbformat_minor": 2
}
