{
  "nbformat": 4,
  "nbformat_minor": 0,
  "metadata": {
    "colab": {
      "name": "Untitled0.ipynb",
      "provenance": [],
      "collapsed_sections": [],
      "mount_file_id": "https://github.com/adrincont/Tareas_UNAL/blob/main/Tareas/Tarea1_P1.ipynb",
      "authorship_tag": "ABX9TyOPU0VrTidlMgfrUY/Tv80w",
      "include_colab_link": true
    },
    "kernelspec": {
      "name": "python3",
      "display_name": "Python 3"
    },
    "language_info": {
      "name": "python"
    },
    "accelerator": "GPU"
  },
  "cells": [
    {
      "cell_type": "markdown",
      "metadata": {
        "id": "view-in-github",
        "colab_type": "text"
      },
      "source": [
        "<a href=\"https://colab.research.google.com/github/adrincont/Tareas_UNAL/blob/main/Tareas/Tarea1_P2.ipynb\" target=\"_parent\"><img src=\"https://colab.research.google.com/assets/colab-badge.svg\" alt=\"Open In Colab\"/></a>"
      ]
    },
    {
      "cell_type": "markdown",
      "source": [
        "# Recorrido por Colab (Punto 2 GPU)\n",
        "\n",
        "\n",
        "1.   Transcriba el siguiente código en Colab son sus propias manos."
      ],
      "metadata": {
        "id": "3K6glQ_fMuXd"
      }
    },
    {
      "cell_type": "code",
      "source": [
        "# Liberias a usar\n",
        "%tensorflow_version 2.x\n",
        "import tensorflow as tf\n",
        "print('Versión de Tensorflow: ' + tf.__version__)\n",
        "import numpy as np\n",
        "import timeit\n",
        "import os\n",
        "import gzip\n",
        "from google.colab import drive\n",
        "drive.mount('/content/gdrive')\n",
        "ruta = '/content/gdrive/MyDrive/Colab Notebooks'"
      ],
      "metadata": {
        "id": "oaj3rn-3M6Hu",
        "outputId": "5afafd99-3b3a-4fa4-bc46-b968c9355936",
        "colab": {
          "base_uri": "https://localhost:8080/"
        }
      },
      "execution_count": 1,
      "outputs": [
        {
          "output_type": "stream",
          "name": "stdout",
          "text": [
            "Versión de Tensorflow: 2.8.0\n",
            "Mounted at /content/gdrive\n"
          ]
        }
      ]
    },
    {
      "cell_type": "markdown",
      "source": [
        "## Lectura del set de datos"
      ],
      "metadata": {
        "id": "H_o7T1pWNQJx"
      }
    },
    {
      "cell_type": "code",
      "source": [
        "# Fucnion para la lectura de los datos de entrenamiento y validacion\n",
        "def load_set(ruta, tipo='train'):\n",
        "  ruta_categorias = os.path.join(ruta, '%s-labels-idx1-ubyte.gz' % tipo)\n",
        "  ruta_imagenes = os.path.join(ruta, '%s-images-idx3-ubyte.gz' % tipo)\n",
        "  with gzip.open(ruta_categorias) as rut_cat:\n",
        "      etiquetas = np.frombuffer(rut_cat.read(), dtype=np.uint8, offset=8)\n",
        "  with gzip.open(ruta_imagenes) as rut_imgs:\n",
        "      imagenes = np.frombuffer(rut_imgs.read(), dtype=np.uint8, offset=16).reshape(len(etiquetas), 784)\n",
        "  return imagenes, etiquetas\n",
        "# Leer los archivos del Drive\n",
        "ruta_datos = ruta + '/datos'\n",
        "# Conjuntos de entrenamiento y test para el modelo\n",
        "X_train, Y_train = load_set(ruta_datos, tipo='train')\n",
        "X_test, Y_test = load_set(ruta_datos, tipo='t10k')\n",
        "# Configurar los tamañso de los datos\n",
        "X_train = X_train[0:59904:]\n",
        "X_test = X_test[0:9984:]\n",
        "Y_train = Y_train[0:59904:]\n",
        "Y_test = Y_test[0:9984]\n",
        "X_train = np.reshape(X_train,(59904,28,28,1))\n",
        "X_test = np.reshape(X_test,(9984,28,28,1))"
      ],
      "metadata": {
        "id": "fTB1nneXNSqS"
      },
      "execution_count": 2,
      "outputs": []
    },
    {
      "cell_type": "markdown",
      "source": [
        "## Modelo de la red"
      ],
      "metadata": {
        "id": "tYeV7pf5fZpY"
      }
    },
    {
      "cell_type": "code",
      "source": [
        "tf.random.set_seed(1997)\n",
        "model = tf.keras.models.Sequential()\n",
        "#-------------------------------------------------------------------------------\n",
        "model.add(tf.keras.layers.BatchNormalization(input_shape=X_train.shape[1:]))\n",
        "model.add(tf.keras.layers.Conv2D(64, (5, 5), padding='same', activation='elu'))\n",
        "model.add(tf.keras.layers.MaxPooling2D(pool_size=(2, 2), strides=(2,2)))\n",
        "model.add(tf.keras.layers.Dropout(0.25))\n",
        "#-------------------------------------------------------------------------------\n",
        "model.add(tf.keras.layers.BatchNormalization(input_shape=X_train.shape[1:]))\n",
        "model.add(tf.keras.layers.Conv2D(128, (5, 5), padding='same', activation='elu'))\n",
        "model.add(tf.keras.layers.MaxPooling2D(pool_size=(2, 2)))\n",
        "model.add(tf.keras.layers.Dropout(0.25))\n",
        "#-------------------------------------------------------------------------------\n",
        "model.add(tf.keras.layers.BatchNormalization(input_shape=X_train.shape[1:]))\n",
        "model.add(tf.keras.layers.Conv2D(256, (5, 5), padding='same', activation='elu'))\n",
        "model.add(tf.keras.layers.MaxPooling2D(pool_size=(2, 2), strides=(2,2)))\n",
        "model.add(tf.keras.layers.Dropout(0.25))\n",
        "#-------------------------------------------------------------------------------\n",
        "model.add(tf.keras.layers.Flatten())\n",
        "model.add(tf.keras.layers.Dense(256))\n",
        "model.add(tf.keras.layers.Activation('elu'))\n",
        "model.add(tf.keras.layers.Dropout(0.5))\n",
        "model.add(tf.keras.layers.Dense(10))\n",
        "model.add(tf.keras.layers.Activation('softmax'))\n",
        "#-------------------------------------------------------------------------------\n",
        "model.summary()\n",
        "model.compile(optimizer='adam',loss='sparse_categorical_crossentropy',metrics=['accuracy'])"
      ],
      "metadata": {
        "id": "xFL8kTNIffnc",
        "outputId": "1766a4db-8af9-4723-e81f-3f14d250e7d3",
        "colab": {
          "base_uri": "https://localhost:8080/"
        }
      },
      "execution_count": 3,
      "outputs": [
        {
          "output_type": "stream",
          "name": "stdout",
          "text": [
            "Model: \"sequential\"\n",
            "_________________________________________________________________\n",
            " Layer (type)                Output Shape              Param #   \n",
            "=================================================================\n",
            " batch_normalization (BatchN  (None, 28, 28, 1)        4         \n",
            " ormalization)                                                   \n",
            "                                                                 \n",
            " conv2d (Conv2D)             (None, 28, 28, 64)        1664      \n",
            "                                                                 \n",
            " max_pooling2d (MaxPooling2D  (None, 14, 14, 64)       0         \n",
            " )                                                               \n",
            "                                                                 \n",
            " dropout (Dropout)           (None, 14, 14, 64)        0         \n",
            "                                                                 \n",
            " batch_normalization_1 (Batc  (None, 14, 14, 64)       256       \n",
            " hNormalization)                                                 \n",
            "                                                                 \n",
            " conv2d_1 (Conv2D)           (None, 14, 14, 128)       204928    \n",
            "                                                                 \n",
            " max_pooling2d_1 (MaxPooling  (None, 7, 7, 128)        0         \n",
            " 2D)                                                             \n",
            "                                                                 \n",
            " dropout_1 (Dropout)         (None, 7, 7, 128)         0         \n",
            "                                                                 \n",
            " batch_normalization_2 (Batc  (None, 7, 7, 128)        512       \n",
            " hNormalization)                                                 \n",
            "                                                                 \n",
            " conv2d_2 (Conv2D)           (None, 7, 7, 256)         819456    \n",
            "                                                                 \n",
            " max_pooling2d_2 (MaxPooling  (None, 3, 3, 256)        0         \n",
            " 2D)                                                             \n",
            "                                                                 \n",
            " dropout_2 (Dropout)         (None, 3, 3, 256)         0         \n",
            "                                                                 \n",
            " flatten (Flatten)           (None, 2304)              0         \n",
            "                                                                 \n",
            " dense (Dense)               (None, 256)               590080    \n",
            "                                                                 \n",
            " activation (Activation)     (None, 256)               0         \n",
            "                                                                 \n",
            " dropout_3 (Dropout)         (None, 256)               0         \n",
            "                                                                 \n",
            " dense_1 (Dense)             (None, 10)                2570      \n",
            "                                                                 \n",
            " activation_1 (Activation)   (None, 10)                0         \n",
            "                                                                 \n",
            "=================================================================\n",
            "Total params: 1,619,470\n",
            "Trainable params: 1,619,084\n",
            "Non-trainable params: 386\n",
            "_________________________________________________________________\n"
          ]
        }
      ]
    },
    {
      "cell_type": "markdown",
      "source": [
        "## Entrenamiento con GPU"
      ],
      "metadata": {
        "id": "vLXmvRX2fqB3"
      }
    },
    {
      "cell_type": "code",
      "source": [
        "import timeit\n",
        "# Guardar puntos de control durante el entrenamiento\n",
        "checkpoint_path = ruta + \"/Modelo_Punto2_GPU.ckpt\"\n",
        "checkpoint_dir = os.path.dirname(checkpoint_path)\n",
        "# Crear una devolución de llamada que guarde los pesos del modelo\n",
        "cp_callback = tf.keras.callbacks.ModelCheckpoint(filepath=checkpoint_path, save_weights_only=True, verbose=1)\n",
        "# Entrenar al modelo\n",
        "def entrenamiento_gpu():\n",
        "  with tf.device('/device:GPU:0'):\n",
        "    model.fit(X_train,Y_train,validation_data=(X_test,Y_test),batch_size=128,epochs=2,verbose=1,callbacks=[cp_callback])\n",
        "  return None\n",
        "cpu_time = timeit.timeit('entrenamiento_gpu()', number=1, setup='from __main__ import entrenamiento_gpu')"
      ],
      "metadata": {
        "id": "bK6aXjChfxBw",
        "outputId": "bc6f1ed3-f85e-4913-bb6f-bf664253d7b9",
        "colab": {
          "base_uri": "https://localhost:8080/"
        }
      },
      "execution_count": 4,
      "outputs": [
        {
          "output_type": "stream",
          "name": "stdout",
          "text": [
            "Epoch 1/2\n",
            "467/468 [============================>.] - ETA: 0s - loss: 0.7000 - accuracy: 0.7764\n",
            "Epoch 1: saving model to /content/gdrive/MyDrive/Colab Notebooks/Modelo_Punto2_GPU.ckpt\n",
            "468/468 [==============================] - 31s 41ms/step - loss: 0.6993 - accuracy: 0.7766 - val_loss: 0.3565 - val_accuracy: 0.8728\n",
            "Epoch 2/2\n",
            "468/468 [==============================] - ETA: 0s - loss: 0.3927 - accuracy: 0.8623\n",
            "Epoch 2: saving model to /content/gdrive/MyDrive/Colab Notebooks/Modelo_Punto2_GPU.ckpt\n",
            "468/468 [==============================] - 19s 40ms/step - loss: 0.3927 - accuracy: 0.8623 - val_loss: 0.3187 - val_accuracy: 0.8870\n"
          ]
        }
      ]
    },
    {
      "cell_type": "code",
      "source": [
        "# Cargar pesos de un modelo guardado (Esta linea se corre solo para retornar modelo a un punto anterior)\n",
        "model.load_weights(checkpoint_path)\n",
        "cpu_time = timeit.timeit('entrenamiento_cpu()', number=1, setup='from __main__ import entrenamiento_cpu')"
      ],
      "metadata": {
        "id": "mwrCSPqMg0Pe"
      },
      "execution_count": null,
      "outputs": []
    }
  ]
}